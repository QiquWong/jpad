{
 "cells": [
  {
   "cell_type": "markdown",
   "metadata": {},
   "source": [
    "## Geometrical characteristics of a straight and tapered wing"
   ]
  },
  {
   "cell_type": "code",
   "execution_count": 129,
   "metadata": {
    "collapsed": false
   },
   "outputs": [],
   "source": [
    "import math\n",
    "import numericalunits as nu\n",
    "nu.reset_units('SI')\n",
    "from IPython.display import display, Math, Latex\n",
    "%matplotlib inline\n",
    "%run ./init.py"
   ]
  },
  {
   "cell_type": "markdown",
   "metadata": {},
   "source": []
  },
  {
   "cell_type": "code",
   "execution_count": 130,
   "metadata": {
    "collapsed": true
   },
   "outputs": [],
   "source": [
    "b=26.0\n",
    "sweep_angle=0\n",
    "c_r=2.50\n",
    "c_t=1.25\n",
    "taper=c_t/c_r"
   ]
  },
  {
   "cell_type": "code",
   "execution_count": 131,
   "metadata": {
    "collapsed": false
   },
   "outputs": [
    {
     "data": {
      "text/latex": [
       "\\begin{array}{rl}\\text{Wing Span,}\\, b: & 26.0\\,\\text{m}\\\\\\text{Sweep Angle,}\\, \\Lambda_{\\mathrm{c/4}}: & 0\\,\\text{rad}\\\\\\text{Leading Edge Sweep Angle,}\\, \\Lambda_{\\mathrm{le}}: & 0.02403383295375754\\,\\text{rad}\\\\\\text{Root Chord,}\\, c_r: & 2.5\\,\\text{m}\\\\\\text{Tip Chord,}\\, c_r: & 1.25\\,\\text{m}\\\\\\text{Taper ratio,}\\, \\lambda: & 0.5\\,\\text{m}\\end{array}"
      ],
      "text/plain": [
       "<IPython.core.display.Latex object>"
      ]
     },
     "execution_count": 131,
     "metadata": {},
     "output_type": "execute_result"
    }
   ],
   "source": [
    "Latex(\n",
    "    r'\\begin{array}{rl}'\n",
    "    +  r'\\text{Wing Span,}\\, b: & ' + r'{0:.4}'.format(b) + r'\\,\\text{m}'\n",
    "    +  r'\\\\'\n",
    "    +  r'\\text{Sweep Angle,}\\, \\Lambda_{\\mathrm{c/4}}: & ' + r'{0}'.format(sweep_angle) + r'\\,\\text{rad}'\n",
    "    +  r'\\\\' \n",
    "    +  r'\\text{Leading Edge Sweep Angle,}\\, \\Lambda_{\\mathrm{le}}: & ' + r'{0}'.format(sweep_angle_le) + r'\\,\\text{rad}'\n",
    "    +  r'\\\\'\n",
    "    +  r'\\text{Root Chord,}\\, c_r: & ' + r'{0}'.format(c_r) + r'\\,\\text{m}'\n",
    "        +  r'\\\\'\n",
    "\n",
    "    +  r'\\text{Tip Chord,}\\, c_r: & ' + r'{0}'.format(c_t) + r'\\,\\text{m}'\n",
    "  +  r'\\\\'\n",
    "\n",
    "    +  r'\\text{Taper ratio,}\\, \\lambda: & ' + r'{0}'.format(taper) + r'\\,\\text{m}'\n",
    "\n",
    "    +r'\\end{array}'\n",
    "    )"
   ]
  },
  {
   "cell_type": "markdown",
   "metadata": {},
   "source": [
    "We can calculate now some geometric data depending on the assigned shape:\n",
    "\\begin{equation}\n",
    "S,\\,Ar,\\,\\bar{c},\\,\\,X_\\mathrm{le,\\bar{c}},\\,Y_\\mathrm{\\bar{c}}\n",
    "\\end{equation}"
   ]
  },
  {
   "cell_type": "markdown",
   "metadata": {},
   "source": [
    "The Taper ratio is given by:\n"
   ]
  },
  {
   "cell_type": "code",
   "execution_count": 132,
   "metadata": {
    "collapsed": false
   },
   "outputs": [
    {
     "data": {
      "text/latex": [
       "\\begin{array}{rl}\\lambda = \\frac{c_{\\mathrm{t}}}{ c_{\\mathrm{r}}}=0.5\\end{array}"
      ],
      "text/plain": [
       "<IPython.core.display.Latex object>"
      ]
     },
     "execution_count": 132,
     "metadata": {},
     "output_type": "execute_result"
    }
   ],
   "source": [
    "Latex( \n",
    "        r'\\begin{array}{rl}'\n",
    "  +r'\\lambda = \\frac{c_{\\mathrm{t}}}{ c_{\\mathrm{r}}}=' \n",
    "    \n",
    "    +r'{0}' .format(taper)\n",
    "    \n",
    "        +r'\\end{array}'\n",
    "\n",
    ")"
   ]
  },
  {
   "cell_type": "markdown",
   "metadata": {},
   "source": [
    "\\begin{equation}\n",
    "c(Y)=A_cY+B_c\n",
    "\\end{equation}"
   ]
  },
  {
   "cell_type": "markdown",
   "metadata": {},
   "source": [
    "Naturally:\n",
    "\\begin{equation}\n",
    "    c(0)=c_r\n",
    "    \\end{equation}\n",
    "and\n",
    "\\begin{equation}\n",
    "    c(b/2)=c_t\n",
    "    \\end{equation}"
   ]
  },
  {
   "cell_type": "code",
   "execution_count": 133,
   "metadata": {
    "collapsed": true
   },
   "outputs": [],
   "source": [
    "A_c=2*(c_t-c_r)/b\n",
    "B_c=c_r"
   ]
  },
  {
   "cell_type": "code",
   "execution_count": 134,
   "metadata": {
    "collapsed": false
   },
   "outputs": [
    {
     "data": {
      "text/latex": [
       "\\begin{align*}\\\\A_c=\\frac{c_t-c_r}{b/2}=-0.0962\\\\\\\\B_c=2.5\\end{align*}"
      ],
      "text/plain": [
       "<IPython.core.display.Latex object>"
      ]
     },
     "execution_count": 134,
     "metadata": {},
     "output_type": "execute_result"
    }
   ],
   "source": [
    "\n",
    "Latex(\n",
    "r'\\begin{align*}'\n",
    "    +r'\\\\'\n",
    "   +r'A_c=\\frac{c_t-c_r}{b/2}=' \n",
    "    +r'{0:.3}' .format(A_c)\n",
    "    +r'\\\\'\n",
    "    +r'\\\\'\n",
    "    +r'B_c='\n",
    "    +r'{0:.3}'.format(B_c)\n",
    "    + r'\\end{align*}'\n",
    "        )"
   ]
  },
  {
   "cell_type": "code",
   "execution_count": 135,
   "metadata": {
    "collapsed": false
   },
   "outputs": [
    {
     "data": {
      "text/latex": [
       "$$c(y) =\\,-0.0962\\,y + 2.5\\,\\text{m}$$"
      ],
      "text/plain": [
       "<IPython.core.display.Math object>"
      ]
     },
     "metadata": {},
     "output_type": "display_data"
    }
   ],
   "source": [
    "display(Math(r'c(y) =\\,' + '{0:.3}'.format(A_c) + '\\,y + ' + '{0:.3}'.format(B_c) + r'\\,\\text{m}'))"
   ]
  },
  {
   "cell_type": "markdown",
   "metadata": {},
   "source": [
    "If we integrate the law $c(y)$ over the span we have again the value of $S$:\n"
   ]
  },
  {
   "cell_type": "markdown",
   "metadata": {},
   "source": [
    "\n",
    "\\begin{equation}\n",
    "S= 2 \\int_0^{b/2} c(y) \\, \\text{d}y = 2 \\int_0^{b/2} \\Big( A_c \\, y + B_c \\Big) \\, \\text{d}y \n",
    "\\end{equation}"
   ]
  },
  {
   "cell_type": "code",
   "execution_count": 160,
   "metadata": {
    "collapsed": false
   },
   "outputs": [
    {
     "name": "stdout",
     "output_type": "stream",
     "text": [
      "Indefinite integral of c(y) = -0.0480769230769231*y**2 + 2.5*y\n",
      "Definite integral of c(y) over [0,b/2] = 48.75\n",
      "S = 48.75 m^2\n"
     ]
    }
   ],
   "source": [
    "# symbolic variable\n",
    "y = Symbol('y')\n",
    "# symbolic integral\n",
    "c_law_integral_indefinite = integrate(A_c*y + B_c,y)\n",
    "# definite integral\n",
    "S= 2*integrate(A_c*y + B_c,(y,0,b/2))\n",
    "\n",
    "\n",
    "\n",
    "print('Indefinite integral of c(y) = ' + '{0}'.format(c_law_integral_indefinite))\n",
    "print('Definite integral of c(y) over [0,b/2] = ' + '{0:.4}'.format(c_law_integral_definite))\n",
    "print('S = ' + '{0:.4} m^2'.format(c_law_integral_definite))"
   ]
  },
  {
   "cell_type": "code",
   "execution_count": 168,
   "metadata": {
    "collapsed": false
   },
   "outputs": [
    {
     "data": {
      "text/latex": [
       "\\begin{align*}S & {}= 2 \\int_0^{13.0}\\Big(-0.09615\\, y + 2.5\\,\\text{m}\\Big)\\,\\text{d}y\\\\[1em]& {}= 2 \\big(- 0.0480769230769231 y^{2} + 2.5 y\\big)\\Bigr|_0^{13.0} \\,\\text{m}^2=48.75\\,\\text{m}^2\\end{align*}"
      ],
      "text/plain": [
       "<IPython.core.display.Latex object>"
      ]
     },
     "execution_count": 168,
     "metadata": {},
     "output_type": "execute_result"
    }
   ],
   "source": [
    "display_workflow_S(b, A_c, B_c, c_law_integral_indefinite, S)"
   ]
  },
  {
   "cell_type": "markdown",
   "metadata": {},
   "source": [
    "And AR:"
   ]
  },
  {
   "cell_type": "code",
   "execution_count": 138,
   "metadata": {
    "collapsed": false
   },
   "outputs": [],
   "source": [
    "AR=(b*b)/S"
   ]
  },
  {
   "cell_type": "code",
   "execution_count": 139,
   "metadata": {
    "collapsed": false
   },
   "outputs": [
    {
     "data": {
      "text/latex": [
       "\\begin{array}{rl}AR=\\frac{b^2}{S}=13.87\\end{array}"
      ],
      "text/plain": [
       "<IPython.core.display.Latex object>"
      ]
     },
     "execution_count": 139,
     "metadata": {},
     "output_type": "execute_result"
    }
   ],
   "source": [
    "Latex(\n",
    "        r'\\begin{array}{rl}'\n",
    "        +r'AR=\\frac{b^2}{S}='\n",
    "        +r'{0:.4}' .format(AR)\n",
    "       \n",
    "    +r'\\end{array}'\n",
    "\n",
    ")"
   ]
  },
  {
   "cell_type": "markdown",
   "metadata": {},
   "source": [
    "Let us calculate $\\Lambda_\\mathrm{c/4}$ , $\\Lambda_\\mathrm{c/2}$ and $\\Lambda_\\mathrm{te}$ by using the generic \"n\" formula :\n"
   ]
  },
  {
   "cell_type": "markdown",
   "metadata": {},
   "source": [
    "\\begin{equation}\n",
    "\\text{tan}\\,\\Lambda_{c/n} = \\text{tan}\\,\\Lambda_{le}\\,-\\,\\frac{(4/n)(1-\\lambda)}{\\text{AR}(1+\\lambda)}\n",
    "\\end{equation}"
   ]
  },
  {
   "cell_type": "code",
   "execution_count": 140,
   "metadata": {
    "collapsed": false
   },
   "outputs": [],
   "source": [
    "tan_sweep_angle_le = tan(sweep_angle) + ((4/4)*(1-taper))/(AR*(1+taper))\n",
    "sweep_angle_le=math.atan(tan_sweep_angle_le)\n"
   ]
  },
  {
   "cell_type": "code",
   "execution_count": 141,
   "metadata": {
    "collapsed": false
   },
   "outputs": [
    {
     "data": {
      "text/latex": [
       "$$\\Lambda_\\mathrm{le} = 0.02403 \\,rad$$"
      ],
      "text/plain": [
       "<IPython.core.display.Math object>"
      ]
     },
     "metadata": {},
     "output_type": "display_data"
    }
   ],
   "source": [
    "display(Math('\\Lambda_\\mathrm{le}'+' = {0:.4} \\,rad'.format(sweep_angle_le)))\n"
   ]
  },
  {
   "cell_type": "markdown",
   "metadata": {},
   "source": [
    "Let us calculate the value of the mean aerodinamic chord :\n"
   ]
  },
  {
   "cell_type": "code",
   "execution_count": 142,
   "metadata": {
    "collapsed": true
   },
   "outputs": [],
   "source": [
    "c_mean= (2/3)*c_r*(1+taper+(taper)*(taper))/(1+taper)"
   ]
  },
  {
   "cell_type": "code",
   "execution_count": 143,
   "metadata": {
    "collapsed": false
   },
   "outputs": [
    {
     "data": {
      "text/latex": [
       "\\begin{align*}\\bar{c} = \\frac{2}{3}c_\\mathrm{r}\\frac{1 + \\lambda + \\lambda^2}{1+\\lambda}& =1.944\\,\\text{m}\\end{align*}"
      ],
      "text/plain": [
       "<IPython.core.display.Latex object>"
      ]
     },
     "execution_count": 143,
     "metadata": {},
     "output_type": "execute_result"
    }
   ],
   "source": [
    "Latex(\n",
    "r'\\begin{align*}'\n",
    "    + r'\\bar{c} = \\frac{2}{3}c_\\mathrm{r}\\frac{1 + \\lambda + \\lambda^2}{1+\\lambda}'\n",
    "    + r'& =' +r'{0:.4}'.format(c_mean) +r'\\,\\text{m}'\n",
    "    + r'\\end{align*}'\n",
    "    \n",
    "        )"
   ]
  },
  {
   "cell_type": "markdown",
   "metadata": {},
   "source": [
    "Let us now calculate the logitudinal distance from the leading edge of the mean aerodinamic chord to the one of the root chord."
   ]
  },
  {
   "cell_type": "markdown",
   "metadata": {},
   "source": [
    "\\begin{equation}\n",
    "X_{le,\\bar{c}} = \\frac{b}{6}\\,\\frac{ 1 + 2\\lambda}{1+\\lambda}\\,\\tan{\\Lambda_{le}}\n",
    "\\end{equation}"
   ]
  },
  {
   "cell_type": "code",
   "execution_count": 144,
   "metadata": {
    "collapsed": true
   },
   "outputs": [],
   "source": [
    "tan_lambda = math.tan(sweep_angle_le)\n",
    "x_lec=(b/6)*((1+2*taper)/(1+taper))*tan_lambda"
   ]
  },
  {
   "cell_type": "code",
   "execution_count": 145,
   "metadata": {
    "collapsed": false
   },
   "outputs": [
    {
     "data": {
      "text/latex": [
       "\\begin{align*}\\text{tan}(\\Lambda_\\mathrm{le})=\\text{tan}(0.02403\\,\\text{rad}) = 0.02404\\end{align*}"
      ],
      "text/plain": [
       "<IPython.core.display.Latex object>"
      ]
     },
     "execution_count": 145,
     "metadata": {},
     "output_type": "execute_result"
    }
   ],
   "source": [
    "Latex(\n",
    "r'\\begin{align*}'\n",
    "+r'\\text{tan}' + r'(\\Lambda_\\mathrm{le})' + r'='\n",
    "    +r'\\text{tan}' + r'({0:.4}\\,'.format(sweep_angle_le) +r'\\text{rad})'\n",
    "    \n",
    "    + r' = {0:.4}'.format(tan_sweep_angle_le)\n",
    "                        + r'\\end{align*}'\n",
    ")"
   ]
  },
  {
   "cell_type": "code",
   "execution_count": 146,
   "metadata": {
    "collapsed": false
   },
   "outputs": [
    {
     "data": {
      "text/latex": [
       "\\begin{align*}X_\\mathrm{le,\\bar{c}}=0.1389\\,\\text{m}\\end{align*}"
      ],
      "text/plain": [
       "<IPython.core.display.Latex object>"
      ]
     },
     "execution_count": 146,
     "metadata": {},
     "output_type": "execute_result"
    }
   ],
   "source": [
    "Latex(\n",
    "r'\\begin{align*}'\n",
    "+ r'X_\\mathrm{le,\\bar{c}}' + r'=' + r'{0:.4}'.format(x_lec) + r'\\,\\text{m}'\n",
    "    +r'\\end{align*}'\n",
    "    )"
   ]
  },
  {
   "cell_type": "markdown",
   "metadata": {},
   "source": [
    "Let us calculate now the distance, computed from wing root, of the mean aerodinamic chord station .\n",
    "\\begin{equation}\n",
    "Y_{\\bar{c}} = \\frac{b}{6} \\frac{1+2\\lambda}{1+\\lambda}\n",
    "\\end{equation}\n"
   ]
  },
  {
   "cell_type": "code",
   "execution_count": 147,
   "metadata": {
    "collapsed": false
   },
   "outputs": [],
   "source": [
    "y_c=(b/6)*((1+2*taper)/(1+taper))"
   ]
  },
  {
   "cell_type": "code",
   "execution_count": 148,
   "metadata": {
    "collapsed": false
   },
   "outputs": [
    {
     "data": {
      "text/latex": [
       "\\begin{align*}Y_{\\bar{c}}=\\frac{b}{6} \\frac{1+2\\lambda}{1+\\lambda}=5.778\\,\\text{m}\\end{align*}"
      ],
      "text/plain": [
       "<IPython.core.display.Latex object>"
      ]
     },
     "execution_count": 148,
     "metadata": {},
     "output_type": "execute_result"
    }
   ],
   "source": [
    "Latex(\n",
    "r'\\begin{align*}'\n",
    "    +r'Y_{\\bar{c}}=\\frac{b}{6} \\frac{1+2\\lambda}{1+\\lambda}='\n",
    "    +r'{0:.4}' .format(y_c)\n",
    "   \n",
    "    +r'\\,\\text{m}'\n",
    "        + r'\\end{align*}'\n",
    "\n",
    "    )"
   ]
  },
  {
   "cell_type": "code",
   "execution_count": null,
   "metadata": {
    "collapsed": true
   },
   "outputs": [],
   "source": []
  }
 ],
 "metadata": {
  "kernelspec": {
   "display_name": "Python [Root]",
   "language": "python",
   "name": "Python [Root]"
  },
  "language_info": {
   "codemirror_mode": {
    "name": "ipython",
    "version": 3
   },
   "file_extension": ".py",
   "mimetype": "text/x-python",
   "name": "python",
   "nbconvert_exporter": "python",
   "pygments_lexer": "ipython3",
   "version": "3.5.2"
  }
 },
 "nbformat": 4,
 "nbformat_minor": 0
}
