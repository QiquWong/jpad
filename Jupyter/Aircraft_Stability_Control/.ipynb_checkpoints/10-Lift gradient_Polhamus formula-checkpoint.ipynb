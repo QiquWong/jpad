{
 "cells": [
  {
   "cell_type": "markdown",
   "metadata": {},
   "source": [
    "#  Lift gradient:Polhamus formula"
   ]
  },
  {
   "cell_type": "code",
   "execution_count": 1,
   "metadata": {
    "collapsed": false
   },
   "outputs": [],
   "source": [
    "%run ./resources/init.py\n",
    "%matplotlib inline\n"
   ]
  },
  {
   "cell_type": "markdown",
   "metadata": {},
   "source": [
    "Let us consider this wing:"
   ]
  },
  {
   "cell_type": "code",
   "execution_count": 37,
   "metadata": {
    "collapsed": true
   },
   "outputs": [],
   "source": [
    "c_r = 5.20; c_t=2.18; taper = c_t/c_r ;\n",
    "b= 26.80 ; S = (c_r + c_t)*b/2 ; AR=b*b/S;\n",
    "Lambda_le=27.5\n",
    "M=0.7\n",
    "Mcr=0.79"
   ]
  },
  {
   "cell_type": "code",
   "execution_count": 38,
   "metadata": {
    "collapsed": false
   },
   "outputs": [
    {
     "data": {
      "text/latex": [
       "$\\lambda = \\,0.4192$"
      ],
      "text/plain": [
       "<IPython.core.display.Latex object>"
      ]
     },
     "execution_count": 38,
     "metadata": {},
     "output_type": "execute_result"
    }
   ],
   "source": [
    "Latex(r'$\\lambda = \\,' + r'{0:.4}$'.format(taper))"
   ]
  },
  {
   "cell_type": "code",
   "execution_count": 39,
   "metadata": {
    "collapsed": false
   },
   "outputs": [
    {
     "data": {
      "text/latex": [
       "\\begin{array}{ll}\\text{Wing Span,}\\, b: & 26.8\\,\\text{m}\\\\\\text{Reference Surface,}\\, S: & 98.892\\,\\text{m}^2\\\\\\text{Tip Chord,}\\, c_\\mathrm{t}: & 2.18\\,\\text{m}\\\\\\text{Root Chord,}\\, c_\\mathrm{r}: & 5.2\\,\\text{m}\\\\\\text{Aspect Ratio,}\\, AR: & 7.263\\\\\\text{Sweep angle leading edge}\\, \\Lambda_{le}: &27.5\\, \\text{deg}\\\\\\text{Mach}\\, \\text{M}: &0.7\\\\\\text{Critical Mach}\\, \\text{M}_{cr}: &0.79\\end{array}"
      ],
      "text/plain": [
       "<IPython.core.display.Latex object>"
      ]
     },
     "execution_count": 39,
     "metadata": {},
     "output_type": "execute_result"
    }
   ],
   "source": [
    "Latex(\n",
    " r'\\begin{array}{ll}'\n",
    "    +  r'\\text{Wing Span,}\\, b: & ' + r'{0:.4}'.format(b) + r'\\,\\text{m}'\n",
    "    +  r'\\\\'\n",
    "    +  r'\\text{Reference Surface,}\\, S: & ' + r'{0:.5}'.format(S) + r'\\,\\text{m}^2'\n",
    "    +  r'\\\\'\n",
    "    +  r'\\text{Tip Chord,}\\, c_\\mathrm{t}: & ' + r'{0}'.format(c_t) + r'\\,\\text{m}'\n",
    "    +  r'\\\\'\n",
    "    +  r'\\text{Root Chord,}\\, c_\\mathrm{r}: & ' + r'{0}'.format(c_r) + r'\\,\\text{m}'\n",
    "    +  r'\\\\'\n",
    "    +  r'\\text{Aspect Ratio,}\\, AR: & ' + r'{0:.4}'.format(AR) \n",
    "    +  r'\\\\'\n",
    "    +  r'\\text{Sweep angle leading edge}\\, \\Lambda_{le}: &' + r'{0:.3}' .format(Lambda_le) +r'\\, \\text{deg}'\n",
    "    +  r'\\\\'\n",
    "    +  r'\\text{Mach}\\, \\text{M}: &' + r'{0:.3}' .format(M) \n",
    "    +  r'\\\\'\n",
    "    +  r'\\text{Critical Mach}\\, \\text{M}_{cr}: &' + r'{0:.3}' .format(Mcr) \n",
    "  +r'\\end{array}'\n",
    "    )"
   ]
  },
  {
   "cell_type": "markdown",
   "metadata": {},
   "source": [
    "We want to calculate $C_{L\\alpha}$ by the Pohlhamus formula:"
   ]
  },
  {
   "cell_type": "markdown",
   "metadata": {},
   "source": [
    "\\begin{equation}\n",
    "C_{L\\alpha}=\\dfrac{2 \\pi AR}{2+\\sqrt{4+\\dfrac{AR^2(1-M^2)}{k_p^2}\\Big(1+\\dfrac{tan^2(\\Lambda_{c/2})}{1-M^2}\\Big)}}\n",
    "\\end{equation}"
   ]
  },
  {
   "cell_type": "markdown",
   "metadata": {},
   "source": [
    "\\begin{equation}\n",
    "k_p = \n",
    "\\begin{cases}\n",
    "1+AR\\dfrac{1.87-0.000233\\Lambda_{le}}{100} & \\text{if $\\;AR<4$} \\\\[0.5em]\n",
    "1+\\dfrac{(8.2-2.3\\Lambda_{le}-AR(0.22-0.153\\Lambda_{le})}{100} & \\text{if $ AR>4 $}\n",
    "\\end{cases}\n",
    "\\end{equation}"
   ]
  },
  {
   "cell_type": "markdown",
   "metadata": {},
   "source": [
    "We can applicate the Polhamus formula only for:\n",
    "- $\\Lambda_{le}$<32°\n",
    "- $0.4<\\lambda\\leq1$\n",
    "- $3\\leq AR \\leq8$\n",
    "- $M \\leq M_{cr}$"
   ]
  },
  {
   "cell_type": "markdown",
   "metadata": {},
   "source": [
    "Let us calculate  $\\Lambda_\\mathrm{c/2}$ by using the generic \"n\" formula :"
   ]
  },
  {
   "cell_type": "markdown",
   "metadata": {},
   "source": [
    "\\begin{equation}\n",
    "\\text{tan}\\,\\Lambda_{c/n} = \\text{tan}\\,\\Lambda_{le}\\,-\\,\\frac{(4/n)(1-\\lambda)}{\\text{AR}(1+\\lambda)}\n",
    "\\end{equation}"
   ]
  },
  {
   "cell_type": "code",
   "execution_count": 40,
   "metadata": {
    "collapsed": false
   },
   "outputs": [],
   "source": [
    "tan_sweep_angle_c2 = tan(Lambda_le*math.pi/180) -((4/2)*(1-taper))/(AR*(1+taper))\n",
    "sweep_angle_c2=math.atan(tan_sweep_angle_c2)"
   ]
  },
  {
   "cell_type": "code",
   "execution_count": 41,
   "metadata": {
    "collapsed": false
   },
   "outputs": [
    {
     "data": {
      "text/latex": [
       "\\begin{equation}\\text{tan} \\Lambda_{c/2}=\\text{tan}(27.5\\text{deg})- \\dfrac{2\\cdot(1-0.419)}{7.26\\cdot(1+0.419)}=0.408\\,\\Rightarrow\\, \\Lambda_{c/2}=22.2\\,\\text{deg}\\end{equation}"
      ],
      "text/plain": [
       "<IPython.core.display.Latex object>"
      ]
     },
     "execution_count": 41,
     "metadata": {},
     "output_type": "execute_result"
    }
   ],
   "source": [
    "Latex( r'\\begin{equation}'\n",
    "         + r'\\text{tan} \\Lambda_{c/2}=\\text{tan}('\n",
    "         + r'{0:.3}' .format(Lambda_le)\n",
    "         + r'\\text{deg})- \\dfrac{2\\cdot(1-'\n",
    "         + r'{0:.3}' .format(taper)\n",
    "         + r')}{'\n",
    "         + r'{0:.3}' .format(AR)\n",
    "         + r'\\cdot(1+'\n",
    "         + r'{0:.3}' .format(taper)\n",
    "         + r')}='\n",
    "         + r'{0:.3}' .format(tan_sweep_angle_c2)\n",
    "         + r'\\,\\Rightarrow\\, \\Lambda_{c/2}='\n",
    "         + r'{0:.3}' .format(sweep_angle_c2/math.pi*180)\n",
    "         + r'\\,\\text{deg}'\n",
    "     + r'\\end{equation}'\n",
    "    )"
   ]
  },
  {
   "cell_type": "markdown",
   "metadata": {},
   "source": [
    "So $k_p$ is:"
   ]
  },
  {
   "cell_type": "code",
   "execution_count": 42,
   "metadata": {
    "collapsed": false
   },
   "outputs": [],
   "source": [
    "kp=1+(8.2-2.3*Lambda_le*math.pi/180)/100-7.26*(0.22-0.153*0.48*math.pi/180)/100"
   ]
  },
  {
   "cell_type": "code",
   "execution_count": 43,
   "metadata": {
    "collapsed": false
   },
   "outputs": [
    {
     "data": {
      "text/latex": [
       "$$k_p =\\,1.06$$"
      ],
      "text/plain": [
       "<IPython.core.display.Math object>"
      ]
     },
     "metadata": {},
     "output_type": "display_data"
    }
   ],
   "source": [
    "display(Math(r'k_p =\\,' + '{0:.3}'.format(kp) ))"
   ]
  },
  {
   "cell_type": "markdown",
   "metadata": {},
   "source": [
    "Let us calculate $C_{L\\alpha}$ now:"
   ]
  },
  {
   "cell_type": "code",
   "execution_count": 83,
   "metadata": {
    "collapsed": false
   },
   "outputs": [],
   "source": [
    "CLalpha=2*3.14*AR/(2+sqrt(4+(AR*AR)*(1-M*M)/kp/kp*(1+tan_sweep_angle_c2*tan_sweep_angle_c2/(1-M*M))))"
   ]
  },
  {
   "cell_type": "code",
   "execution_count": 85,
   "metadata": {
    "collapsed": false
   },
   "outputs": [
    {
     "data": {
      "text/latex": [
       "$$C_{L\\alpha} =\\,5.70\\,\\text{rad}^{-1}$$"
      ],
      "text/plain": [
       "<IPython.core.display.Math object>"
      ]
     },
     "metadata": {},
     "output_type": "display_data"
    }
   ],
   "source": [
    "display(Math(r'C_{L\\alpha} =\\,' + '{0:.3}'.format(CLalpha)+r'\\,\\text{rad}^{-1}'))"
   ]
  }
 ],
 "metadata": {
  "anaconda-cloud": {},
  "kernelspec": {
   "display_name": "Python [Root]",
   "language": "python",
   "name": "Python [Root]"
  },
  "language_info": {
   "codemirror_mode": {
    "name": "ipython",
    "version": 3
   },
   "file_extension": ".py",
   "mimetype": "text/x-python",
   "name": "python",
   "nbconvert_exporter": "python",
   "pygments_lexer": "ipython3",
   "version": "3.5.2"
  }
 },
 "nbformat": 4,
 "nbformat_minor": 0
}
