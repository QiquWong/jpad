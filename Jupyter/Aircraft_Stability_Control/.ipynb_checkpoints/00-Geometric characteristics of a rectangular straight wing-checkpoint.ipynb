{
 "cells": [
  {
   "cell_type": "markdown",
   "metadata": {},
   "source": [
    "## Geometric characteristics of a rectangular straight wing"
   ]
  },
  {
   "cell_type": "code",
   "execution_count": null,
   "metadata": {
    "collapsed": false
   },
   "outputs": [],
   "source": [
    "%run ./resources/init.py\n",
    "%matplotlib inline"
   ]
  },
  {
   "cell_type": "markdown",
   "metadata": {},
   "source": [
    "Let us assign the wing planform shape, i.e. let us assume given values of wing span $b$ and wing chord $c$ that due to the geometry equals both to $c_\\mathrm{t}$ and $c_\\mathrm{r}$ .\n",
    "\n",
    "In Python we define the following variables:"
   ]
  },
  {
   "cell_type": "code",
   "execution_count": null,
   "metadata": {
    "collapsed": true
   },
   "outputs": [],
   "source": [
    "b=26.0\n",
    "sweep_angle=0\n",
    "sweep_angle_le=0\n",
    "c_r=2.50\n",
    "c_t=c_r\n",
    "taper=c_t/c_r"
   ]
  },
  {
   "cell_type": "markdown",
   "metadata": {},
   "source": [
    "These data give us the following wing shape : "
   ]
  },
  {
   "cell_type": "code",
   "execution_count": null,
   "metadata": {
    "collapsed": false
   },
   "outputs": [],
   "source": [
    "plot_planform(c_r, c_t, b)"
   ]
  },
  {
   "cell_type": "markdown",
   "metadata": {},
   "source": [
    "We will assume that all the quantities in our calculations are expressed in SI units."
   ]
  },
  {
   "cell_type": "code",
   "execution_count": null,
   "metadata": {
    "collapsed": false
   },
   "outputs": [],
   "source": [
    "Latex(\n",
    "    r'\\begin{array}{ll}'\n",
    "     +  r'\\text{Wing Span,}\\, b: & ' + r'{0:.4}'.format(b) + r'\\,\\text{m}'\n",
    "     +  r'\\\\'\n",
    "     +  r'\\text{Sweep Angle,}\\, \\Lambda_{c/4}: & ' + r'{0}'.format(sweep_angle) + r'\\,\\text{rad}'\n",
    "     +  r'\\\\' \n",
    "     +  r'\\text{Leading Edge Sweep Angle,}\\, \\Lambda_{\\mathrm{le}}: & ' + r'{0}'.format(sweep_angle_le) + r'\\,\\text{rad}'\n",
    "     +  r'\\\\'\n",
    "     +  r'\\text{Wing Chord,}\\, c: & ' + r'{0}'.format(c_r) + r'\\,\\text{m}'\n",
    "    + r'\\end{array}'\n",
    "    )"
   ]
  },
  {
   "cell_type": "markdown",
   "metadata": {},
   "source": [
    "We can calculate now some geometric data depending on the assigned shape:\n",
    "\n",
    "\\begin{equation}\n",
    "S,\\,AR,\\,\\bar{c},\\,\\,X_\\mathrm{le,\\bar{c}},\\,Y_\\mathrm{\\bar{c}}\n",
    "\\end{equation}"
   ]
  },
  {
   "cell_type": "markdown",
   "metadata": {},
   "source": [
    "The wing is not tapered and so the taper ratio\n",
    "\\begin{equation}\n",
    "\\lambda = \\frac{ c_{\\mathrm{t}} }{ c_{\\mathrm{r}} }\n",
    "\\end{equation}\n",
    "becomes"
   ]
  },
  {
   "cell_type": "code",
   "execution_count": null,
   "metadata": {
    "collapsed": false
   },
   "outputs": [],
   "source": [
    "Latex(r'$\\lambda = \\,' + r'{0:.4}$'.format(taper))"
   ]
  },
  {
   "cell_type": "markdown",
   "metadata": {},
   "source": [
    "The reference wing area is given by the formula\n",
    "\\begin{equation}\n",
    "S = \\frac{b}{2}c_\\mathrm{r} (1+\\lambda)\n",
    "\\end{equation}"
   ]
  },
  {
   "cell_type": "code",
   "execution_count": 23,
   "metadata": {
    "collapsed": true
   },
   "outputs": [],
   "source": [
    "S=(b/2)*c_r*(1+taper)"
   ]
  },
  {
   "cell_type": "markdown",
   "metadata": {},
   "source": [
    "Due to wing geometry, we can also use : \n",
    "\\begin{equation}\n",
    "S=b\\,c_\\mathrm{r}\n",
    "\\end{equation}\n"
   ]
  },
  {
   "cell_type": "markdown",
   "metadata": {},
   "source": [
    "In our case we have :\n"
   ]
  },
  {
   "cell_type": "code",
   "execution_count": 24,
   "metadata": {
    "collapsed": false
   },
   "outputs": [
    {
     "data": {
      "text/latex": [
       "$S = 0.50\\cdot 26.0\\,\\text{m}\\cdot 2.5\\,\\text{m}\\cdot \\big( 1.0 + 1.0 \\big)= 65.0\\,\\text{m}^2$"
      ],
      "text/plain": [
       "<IPython.core.display.Latex object>"
      ]
     },
     "execution_count": 24,
     "metadata": {},
     "output_type": "execute_result"
    }
   ],
   "source": [
    "Latex(r'$' +\n",
    "      r'S = 0.50\\cdot {0:.5}'.format(b) + r'\\,\\text{m}' \n",
    "        + r'\\cdot ' + r'{0:.5}'.format(c_r) + r'\\,\\text{m}' \n",
    "        + r'\\cdot ' + r'\\big( 1.0 + {0} \\big)'.format(taper) \n",
    "        + r'= ' + r'{0}'.format(S) +r'\\,\\text{m}^2'\n",
    "       + r'$')"
   ]
  },
  {
   "cell_type": "markdown",
   "metadata": {},
   "source": [
    "And then :"
   ]
  },
  {
   "cell_type": "code",
   "execution_count": 25,
   "metadata": {
    "collapsed": false
   },
   "outputs": [],
   "source": [
    "AR=(b*b)/S"
   ]
  },
  {
   "cell_type": "code",
   "execution_count": 26,
   "metadata": {
    "collapsed": false
   },
   "outputs": [
    {
     "data": {
      "text/latex": [
       "\\begin{align*}AR=\\frac{b^2}{S}=\\dfrac{(26.0\\,\\text{m})^2}{65.0\\,\\text{m}^2}=10.4\\end{align*}"
      ],
      "text/plain": [
       "<IPython.core.display.Latex object>"
      ]
     },
     "execution_count": 26,
     "metadata": {},
     "output_type": "execute_result"
    }
   ],
   "source": [
    "display_workflowAR(b,S,AR)"
   ]
  },
  {
   "cell_type": "markdown",
   "metadata": {},
   "source": [
    "Because this value of AR is bigger than 10, we can say that the wing we are considering has an high elongation.\n",
    "Let us calculate the value of the mean aerodinamic chord :"
   ]
  },
  {
   "cell_type": "code",
   "execution_count": 27,
   "metadata": {
    "collapsed": false
   },
   "outputs": [],
   "source": [
    "c_mean= (2/3)*c_r*(1+taper+(taper)*(taper))/(1+taper)"
   ]
  },
  {
   "cell_type": "code",
   "execution_count": 28,
   "metadata": {
    "collapsed": false
   },
   "outputs": [
    {
     "data": {
      "text/latex": [
       "\\begin{align*}\\bar{c} = \\frac{2}{3}c_\\mathrm{r}\\frac{1 + \\lambda + \\lambda^2}{1+\\lambda}=0,67\\cdot2.5\\,\\text{m} \\cdot\\dfrac{1+1.0+1.0^2}{1+1.0}=2.5\\,\\text{m}\\end{align*}"
      ],
      "text/plain": [
       "<IPython.core.display.Latex object>"
      ]
     },
     "execution_count": 28,
     "metadata": {},
     "output_type": "execute_result"
    }
   ],
   "source": [
    "display_workflowc_mean(c_r,taper,c_mean)"
   ]
  },
  {
   "cell_type": "markdown",
   "metadata": {},
   "source": [
    "The value of the mean chord equals to the one of the generic chord because of the wing airfoil costant shape.\n",
    "Let us now calculate the logitudinal distance from the leading edge of the mean aerodinamic chord to the one of the root chord."
   ]
  },
  {
   "cell_type": "markdown",
   "metadata": {},
   "source": [
    "\\begin{equation}\n",
    "X_{le,\\bar{c}} = \\frac{b}{6}\\,\\frac{ 1 + 2\\lambda}{1+\\lambda}\\,\\tan{\\Lambda_{le}}\n",
    "\\end{equation}"
   ]
  },
  {
   "cell_type": "markdown",
   "metadata": {},
   "source": [
    "In this case : \n"
   ]
  },
  {
   "cell_type": "code",
   "execution_count": 29,
   "metadata": {
    "collapsed": true
   },
   "outputs": [],
   "source": [
    "tan_lambda = math.tan(sweep_angle_le)\n",
    "x_lec=(b/6)*((1+2*taper)/(1+taper))*tan_lambda"
   ]
  },
  {
   "cell_type": "code",
   "execution_count": 30,
   "metadata": {
    "collapsed": false
   },
   "outputs": [
    {
     "data": {
      "text/latex": [
       "\\begin{align*}X_{le,\\bar{c}}=\\dfrac{26.0 \\, \\text{m}}{6}\\cdot\\dfrac{1+2\\cdot1.0}{1+1.0}\\cdot \\text{tan}(0.0\\,\\text{rad})=0.0\\, \\text{m}\\end{align*}"
      ],
      "text/plain": [
       "<IPython.core.display.Latex object>"
      ]
     },
     "execution_count": 30,
     "metadata": {},
     "output_type": "execute_result"
    }
   ],
   "source": [
    "display_workflowXlec(b,taper,tan_lambda,x_lec)"
   ]
  },
  {
   "cell_type": "markdown",
   "metadata": {},
   "source": [
    "Then :"
   ]
  },
  {
   "cell_type": "markdown",
   "metadata": {},
   "source": [
    "This value confirms that the mean aerodynamic chord, projected on the centreline of the wing, overlaps the root chord. For the given wing , all the spanwise stations Y have $\\bar{c}$ as chord lenght .  Formally, the distance, computed from wing root, of the mean aerodinamic chord station equals to :"
   ]
  },
  {
   "cell_type": "markdown",
   "metadata": {},
   "source": [
    "\\begin{equation}\n",
    "Y_{\\bar{c}} = \\frac{b}{6} \\frac{1+2\\lambda}{1+\\lambda}\n",
    "\\end{equation}"
   ]
  },
  {
   "cell_type": "code",
   "execution_count": 33,
   "metadata": {
    "collapsed": false
   },
   "outputs": [
    {
     "data": {
      "text/latex": [
       "\\begin{align*}Y_{\\bar{c}}=\\dfrac{26.0 \\, \\text{m}}{6}\\cdot\\dfrac{1+2\\cdot1.0}{1+1.0}=6.5\\, \\text{m}\\end{align*}"
      ],
      "text/plain": [
       "<IPython.core.display.Latex object>"
      ]
     },
     "execution_count": 33,
     "metadata": {},
     "output_type": "execute_result"
    }
   ],
   "source": [
    "y_lec=(b/6)*((1+2*taper)/(1+taper))\n",
    "display_workflowYlec(b,taper,tan_lambda,y_lec)"
   ]
  },
  {
   "cell_type": "markdown",
   "metadata": {},
   "source": [
    "Due to geometry, the value obtained equals to the station along the span midway between the root and the tip.\n",
    "We well see that for this type of straight wing with constant profile,if there is no geometric twist, some of the aerodynamic charateristics do not change when we consider the finite wing. \n",
    "For example,the zero lift angle of attack of the wing, $\\alpha_\\mathrm{0L}$ equals to the zero lift angle of attack of the profile, $\\alpha_\\mathrm{0l}$ ; we can say the same for $C_\\mathrm{\\it L}\\bigr|_\\mathrm{\\alpha=0}$ of the wing and $C_\\mathrm{\\ell0}$ of the profile. The $C_\\mathrm{\\it L_\\mathrm{\\alpha}}$ gradient of the finite wing however is different from   $C_\\mathrm{\\ell_\\mathrm{\\alpha}}$ of the profile. That happens because of the finite AR."
   ]
  }
 ],
 "metadata": {
  "anaconda-cloud": {},
  "hide_input": false,
  "kernelspec": {
   "display_name": "Python [Root]",
   "language": "python",
   "name": "Python [Root]"
  },
  "language_info": {
   "codemirror_mode": {
    "name": "ipython",
    "version": 3
   },
   "file_extension": ".py",
   "mimetype": "text/x-python",
   "name": "python",
   "nbconvert_exporter": "python",
   "pygments_lexer": "ipython3",
   "version": "3.5.2"
  },
  "toc": {
   "toc_cell": false,
   "toc_number_sections": true,
   "toc_threshold": 6,
   "toc_window_display": false
  }
 },
 "nbformat": 4,
 "nbformat_minor": 0
}
