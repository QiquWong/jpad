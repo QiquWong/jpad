{
 "cells": [
  {
   "cell_type": "markdown",
   "metadata": {},
   "source": [
    "# Zero-lift angle of attack of a cranked wing"
   ]
  },
  {
   "cell_type": "markdown",
   "metadata": {},
   "source": [
    "Let us import the necessary libraries :\n"
   ]
  },
  {
   "cell_type": "code",
   "execution_count": 1,
   "metadata": {
    "collapsed": false
   },
   "outputs": [],
   "source": [
    "%run ./resources/init.py\n",
    "%matplotlib inline"
   ]
  },
  {
   "cell_type": "markdown",
   "metadata": {},
   "source": [
    "Let us consider a <i>cranked wing</i> with the following data : "
   ]
  },
  {
   "cell_type": "code",
   "execution_count": 2,
   "metadata": {
    "collapsed": false
   },
   "outputs": [],
   "source": [
    "c_r = 1.44; c_k = c_r; c_t = 0.86; \n",
    "b_k = 6.36; b = 10.6;  b_k2=b-b_k;\n",
    "Lambda_le_1 = 0*math.pi/180\n",
    "Lambda_le_2 = 0*math.pi/180\n",
    "eps_r = 0*math.pi/180\n",
    "eps_k = eps_r\n",
    "eps_t = (-3)*math.pi/180\n",
    "alpha0l_r = (-2.5)*math.pi/180\n",
    "alpha0l_k = alpha0l_r\n",
    "alpha0l_t = (-1)*math.pi/180\n"
   ]
  },
  {
   "cell_type": "code",
   "execution_count": 3,
   "metadata": {
    "collapsed": false
   },
   "outputs": [
    {
     "data": {
      "text/latex": [
       "\\begin{array}{ll}\\text{root chord,}\\, c_{\\mathrm{r}} \\,\\text{or}\\, c_{\\mathrm{r,1}}: & 1.44\\,\\text{m}\\\\\\text{kink chord,}\\, c_{\\mathrm{k}}\\,\\text{or}\\, c_{\\mathrm{t,1}}: & 1.44\\,\\text{m}\\\\\\text{tip chord,}\\, c_{\\mathrm{t}}\\,\\text{or}\\, c_{\\mathrm{t,2}}: & 0.86\\,\\text{m}\\\\\\text{semispan, inner panel}\\, \\frac{1}{2}b_{\\mathrm{k}}: & 3.18\\,\\text{m}\\\\\\text{semispan, outer panel}\\, \\frac{1}{2}b_{\\mathrm{k}}: & 2.12\\,\\text{m}\\\\\\text{semispan,}\\, \\frac{1}{2}b: & 5.3\\,\\text{m}\\\\\\text{leading edge sweep, inner panel,}\\, \\Lambda_{\\mathrm{le},1}: &0.0\\,\\text{deg}\\\\\\text{leading edge sweep, outer panel,}\\, \\Lambda_{\\mathrm{le},2}: &0.0\\,\\text{deg}\\\\\\text{root section geometric twist,}\\, \\epsilon_{\\mathrm{g,k}}: & 0.0\\,\\text{deg}\\\\\\text{kink section geometric twist,}\\, \\epsilon_{\\mathrm{g,k}}: & 0.0\\,\\text{deg}\\\\\\text{tip section geometric twist,}\\, \\epsilon_{\\mathrm{g,t}}: & -3.0\\,\\text{deg}\\\\\\text{root profile zero-lift angle of attack,}\\, \\alpha_{0\\ell,\\mathrm{r}}: & -2.5\\,\\text{deg}\\\\\\text{kink profile zero-lift angle of attack,}\\, \\alpha_{0\\ell,\\mathrm{k}}: & -2.5\\,\\text{deg}\\\\\\text{tip profile zero-lift angle of attack,}\\, \\alpha_{0\\ell,\\mathrm{t}}: & -1.0\\,\\text{deg}\\end{array}"
      ],
      "text/plain": [
       "<IPython.core.display.Latex object>"
      ]
     },
     "execution_count": 3,
     "metadata": {},
     "output_type": "execute_result"
    }
   ],
   "source": [
    "Latex(\n",
    "    r'\\begin{array}{ll}'\n",
    "    +  r'\\text{root chord,}\\, c_{\\mathrm{r}} \\,\\text{or}\\, c_{\\mathrm{r,1}}: & ' + r'{0}'.format(c_r) + r'\\,\\text{m}'\n",
    "    +  r'\\\\'\n",
    "    +  r'\\text{kink chord,}\\, c_{\\mathrm{k}}\\,\\text{or}\\, c_{\\mathrm{t,1}}: & ' + r'{0}'.format(c_k) + r'\\,\\text{m}'\n",
    "    +  r'\\\\'\n",
    "    +  r'\\text{tip chord,}\\, c_{\\mathrm{t}}\\,\\text{or}\\, c_{\\mathrm{t,2}}: & ' + r'{0}'.format(c_t) + r'\\,\\text{m}'\n",
    "    +  r'\\\\'\n",
    "    +  r'\\text{semispan, inner panel}\\, \\frac{1}{2}b_{\\mathrm{k}}: & ' + r'{0:.4}'.format(b_k/2) + r'\\,\\text{m}'\n",
    "    +  r'\\\\'\n",
    "    +  r'\\text{semispan, outer panel}\\, \\frac{1}{2}b_{\\mathrm{k}}: & ' + r'{0:.4}'.format(b_k2/2) + r'\\,\\text{m}'\n",
    "    +  r'\\\\'\n",
    "    +  r'\\text{semispan,}\\, \\frac{1}{2}b: & ' + r'{0}'.format(b/2) + r'\\,\\text{m}'\n",
    "    +  r'\\\\'\n",
    "    +  r'\\text{leading edge sweep, inner panel,}\\, \\Lambda_{\\mathrm{le},1}: &' \n",
    "       + r'{0:.4}'.format(Lambda_le_1*180/math.pi) + r'\\,\\text{deg}'\n",
    "    +  r'\\\\'\n",
    "    +  r'\\text{leading edge sweep, outer panel,}\\, \\Lambda_{\\mathrm{le},2}: &' \n",
    "       + r'{0:.4}'.format(Lambda_le_2*180/math.pi) + r'\\,\\text{deg}'\n",
    "    +  r'\\\\'\n",
    "    +  r'\\text{root section geometric twist,}\\, \\epsilon_{\\mathrm{g,k}}: & ' \n",
    "       + r'{0:.4}'.format(eps_r*180/math.pi) + r'\\,\\text{deg}'\n",
    "    +  r'\\\\'\n",
    "    +  r'\\text{kink section geometric twist,}\\, \\epsilon_{\\mathrm{g,k}}: & ' \n",
    "       + r'{0:.4}'.format(eps_k*180/math.pi) + r'\\,\\text{deg}'\n",
    "    +  r'\\\\'\n",
    "    +  r'\\text{tip section geometric twist,}\\, \\epsilon_{\\mathrm{g,t}}: & ' \n",
    "       + r'{0:.4}'.format(eps_t*180/math.pi) + r'\\,\\text{deg}'\n",
    "    +  r'\\\\'\n",
    "    +  r'\\text{root profile zero-lift angle of attack,}\\, \\alpha_{0\\ell,\\mathrm{r}}: & ' \n",
    "       + r'{0:.4}'.format(alpha0l_r*180/math.pi) + r'\\,\\text{deg}'\n",
    "    +  r'\\\\'\n",
    "    +  r'\\text{kink profile zero-lift angle of attack,}\\, \\alpha_{0\\ell,\\mathrm{k}}: & ' \n",
    "       + r'{0:.4}'.format(alpha0l_k*180/math.pi) + r'\\,\\text{deg}'\n",
    "    +  r'\\\\'\n",
    "    +  r'\\text{tip profile zero-lift angle of attack,}\\, \\alpha_{0\\ell,\\mathrm{t}}: & ' \n",
    "       + r'{0:.4}'.format(alpha0l_t*180/math.pi) + r'\\,\\text{deg}'\n",
    "    +r'\\end{array}'\n",
    ")"
   ]
  },
  {
   "cell_type": "markdown",
   "metadata": {},
   "source": [
    "Let us plot the planform of this wing."
   ]
  },
  {
   "cell_type": "code",
   "execution_count": 4,
   "metadata": {
    "collapsed": false
   },
   "outputs": [
    {
     "data": {
      "image/png": "[encoded data removed]",
      "text/plain": [
       "<matplotlib.figure.Figure at 0x1c5a6933f28>"
      ]
     },
     "metadata": {},
     "output_type": "display_data"
    }
   ],
   "source": [
    "plot_planform_cw(c_r, c_k, c_t, b_k, b, Lambda_le_1, Lambda_le_2)"
   ]
  },
  {
   "cell_type": "markdown",
   "metadata": {},
   "source": [
    "To calculate the zero-lift angle of attack of this wing, we have to calculate $c(Y)$, $\\alpha _{0l}(Y)$ , $\\epsilon _g(Y)$ for the generic spanwise station $0\\le Y \\le \\frac{b}{2} $ first."
   ]
  },
  {
   "cell_type": "markdown",
   "metadata": {},
   "source": [
    "### The law of the chords, $c(y)$"
   ]
  },
  {
   "cell_type": "markdown",
   "metadata": {},
   "source": [
    "The function $c(y)$ is the piecewise linear law that gives the chord at the generic spanwise station $y\\in \\big[0,\\frac{1}{2}b\\big]$. This has the form\n",
    "\n",
    "\\begin{equation}\n",
    "c(y) = \n",
    "\\begin{cases}\n",
    "A_{c,1} y + B_{c,1}  & \\text{if $\\;0\\le y \\le \\frac{1}{2}b_{\\mathrm{k}}$} \\\\[0.5em]\n",
    "A_{c,2} \\big( y - \\frac{1}{2}b_{\\mathrm{k}} \\big) + B_{c,2} & \\text{if $\\;\\frac{1}{2}b_{\\mathrm{k}} < y \\le \\frac{1}{2}b$}\n",
    "\\end{cases}\n",
    "\\end{equation}\n",
    "\n",
    "with \n",
    "\n",
    "\\begin{equation}\n",
    "A_{c} = \n",
    "\\begin{cases}\n",
    "A_{c,1} = \\dfrac{2}{b_{\\mathrm{k}}} \\left( c_{\\mathrm{k}} - c_{\\mathrm{r}} \\right)  \n",
    "  & \\text{if $\\;0\\le y \\le \\frac{1}{2}b_{\\mathrm{k}}$} \\\\[0.5em]\n",
    "A_{c,2} = \\dfrac{2}{b - b_{\\mathrm{k}}} \\left( c_{\\mathrm{t}} - c_{\\mathrm{k}} \\right)  \n",
    "  & \\text{if $\\;\\frac{1}{2}b_{\\mathrm{k}} < y \\le \\frac{1}{2}b$}\n",
    "\\end{cases}\n",
    "\\end{equation}\n",
    "\n",
    "and\n",
    "\n",
    "\\begin{equation}\n",
    "B_{c} = \n",
    "\\begin{cases}\n",
    "B_{c,1} = c_{\\mathrm{r}}\n",
    "  & \\text{if $\\;0\\le y \\le \\frac{1}{2}b_{\\mathrm{k}}$} \\\\[0.5em]\n",
    "B_{c,2} = c_{\\mathrm{k}}\n",
    "  & \\text{if $\\;\\frac{1}{2}b_{\\mathrm{k}} < y \\le \\frac{1}{2}b$}\n",
    "\\end{cases}\n",
    "\\end{equation}"
   ]
  },
  {
   "cell_type": "markdown",
   "metadata": {},
   "source": [
    "Let us define function $c(y)$ calculating the above two coefficients:"
   ]
  },
  {
   "cell_type": "code",
   "execution_count": 5,
   "metadata": {
    "collapsed": false
   },
   "outputs": [
    {
     "data": {
      "image/png": "[encoded data removed]",
      "text/plain": [
       "<matplotlib.figure.Figure at 0x1c5ac63ebe0>"
      ]
     },
     "metadata": {},
     "output_type": "display_data"
    }
   ],
   "source": [
    "plot_wing_functions(c_r, c_k, c_t, \n",
    "                    [], [], [], [], [], # eps_k, eps_t, alpha0l_r, alpha0l_k, alpha0l_t,\n",
    "                    b_k, b, Lambda_le_1, Lambda_le_2, \n",
    "                    ymax = 7, ymin = -4.5,\n",
    "                    figsize = (11,5), vshift_xaxis=20,\n",
    "                    f_chord = f_chord)"
   ]
  },
  {
   "cell_type": "code",
   "execution_count": 6,
   "metadata": {
    "collapsed": false
   },
   "outputs": [
    {
     "data": {
      "text/latex": [
       "\\begin{array}{ll}\\\\A_{c,1}=\\dfrac{c_{t,1}-c_{r,1}}{b_1/2}=2\\dfrac{1.44\\,\\text{m}-1.44\\, \\text{m}}{6.36\\, \\text{m}}=0.0\\\\B_{c,1}=c_{r,1}=1.44\\, \\text{m}\\\\A_{c,2}=\\dfrac{c_{t,2}-c_{r,2}}{b_2/2}=2\\dfrac{0.86\\,\\text{m}-1.44\\, \\text{m}}{4.24\\, \\text{m}}=-0.274\\\\B_{c,2}=c_{r,2}=1.44\\, \\text{m}\\end{array}"
      ],
      "text/plain": [
       "<IPython.core.display.Latex object>"
      ]
     },
     "execution_count": 6,
     "metadata": {},
     "output_type": "execute_result"
    }
   ],
   "source": [
    "A_1 = 2*(c_k - c_r)/b_k; B_1 = c_r;\n",
    "A_2 = (c_t - c_k)/(b/2 - b_k/2); B_2 = c_k;\n",
    "display_workflowACBC_cw(c_r,c_k,c_t,A_1,B_1,A_2,B_2,b_k,b_k2)"
   ]
  },
  {
   "cell_type": "markdown",
   "metadata": {},
   "source": [
    "So we have:"
   ]
  },
  {
   "cell_type": "code",
   "execution_count": 7,
   "metadata": {
    "collapsed": false
   },
   "outputs": [
    {
     "data": {
      "text/latex": [
       "\\begin{equation}c(y) =\\begin{cases}c_1(Y)=1.44\\,\\text{m}& \\text{if $\\;0\\,\\text{m} \\le Y \\le3.18$} \\, \\text{m}\\\\[0.5em]c_2(Y)=-0.274\\big(Y-3.18\\, \\text{m}\\big)& \\text{if $\\;3.18\\, \\text{m}< Y \\le5.3\\,\\text{m}$}\\end{cases}\\end{equation}"
      ],
      "text/plain": [
       "<IPython.core.display.Latex object>"
      ]
     },
     "execution_count": 7,
     "metadata": {},
     "output_type": "execute_result"
    }
   ],
   "source": [
    "display_workflowsystemc(A_1,B_1,A_2,B_2,b_k,b)"
   ]
  },
  {
   "cell_type": "markdown",
   "metadata": {},
   "source": [
    "### The laws of profile zero-lift angle of attack $\\alpha_{0\\ell}(y)$ and geometric twist $\\epsilon_{\\mathrm{g}}(y)$ "
   ]
  },
  {
   "cell_type": "markdown",
   "metadata": {},
   "source": [
    "The function $\\alpha_{0\\ell}(y)$ is the piecewise law that gives the zero-lift angle of attack of the wing sectiont at the generic spanwise station $y\\in \\big[0,\\frac{1}{2}b\\big]$. This has the form\n",
    "\n",
    "\\begin{equation}\n",
    "\\alpha_{0\\ell}(y) = \n",
    "\\begin{cases}\n",
    "A_{\\alpha,1} \\, y + B_{\\alpha,1}  & \\text{if $\\;0\\le y \\le \\frac{1}{2}b_{\\mathrm{k}}$} \\\\[0.5em]\n",
    "A_{\\alpha,2} \\, \\big( y - \\frac{1}{2}b_{\\mathrm{k}} \\big) + B_{\\alpha,2} & \\text{if $\\;\\frac{1}{2}b_{\\mathrm{k}} < y \\le \\frac{1}{2}b$}\n",
    "\\end{cases}\n",
    "\\end{equation}\n",
    "\n",
    "with \n",
    "\n",
    "\\begin{equation}\n",
    "A_{\\alpha} = \n",
    "\\begin{cases}\n",
    "A_{\\alpha,1} = \\dfrac{2}{b_{\\mathrm{k}}}\\, \\alpha_{0\\ell,\\mathrm{k}}\n",
    "  & \\text{if $\\;0\\le y \\le \\frac{1}{2}b_{\\mathrm{k}}$} \\\\[0.5em]\n",
    "A_{\\alpha,2} = \\dfrac{2}{b - b_{\\mathrm{k}}}\\, \\big( \\alpha_{0\\ell,\\mathrm{t}} - \\alpha_{0\\ell,\\mathrm{k}} \\big)\n",
    "  & \\text{if $\\;\\frac{1}{2}b_{\\mathrm{k}} < y \\le \\frac{1}{2}b$}\n",
    "\\end{cases}\n",
    "\\end{equation}\n",
    "\n",
    "and\n",
    "\n",
    "\\begin{equation}\n",
    "B_{\\alpha} = \n",
    "\\begin{cases}\n",
    "B_{\\alpha,1} = \\alpha_{0\\ell,\\mathrm{r}}\n",
    "  & \\text{if $\\;0\\le y \\le \\frac{1}{2}b_{\\mathrm{k}}$} \\\\[0.5em]\n",
    "B_{\\alpha,2} = \\alpha_{0\\ell,\\mathrm{k}}\n",
    "  & \\text{if $\\;\\frac{1}{2}b_{\\mathrm{k}} < y \\le \\frac{1}{2}b$}\n",
    "\\end{cases}\n",
    "\\end{equation}"
   ]
  },
  {
   "cell_type": "markdown",
   "metadata": {},
   "source": [
    "The following code defines function $\\alpha_{0\\ell}(y)$ calculating the above two coefficients:"
   ]
  },
  {
   "cell_type": "code",
   "execution_count": 8,
   "metadata": {
    "collapsed": false
   },
   "outputs": [
    {
     "data": {
      "text/latex": [
       "\\begin{array}{ll}A_{\\alpha,1} = \\dfrac{\\alpha_\\mathrm{0\\ell,t,1}-\\alpha_\\mathrm{0\\ell,r,1}}{ b_{\\mathrm{1}}/2} =2\\dfrac{-0.0436\\,\\text{rad}-(-0.0436\\, \\text{rad})}{6.36\\, \\text{m}}=0.0\\,\\text{rad/m}\\\\B_{\\alpha,1}=\\alpha_\\mathrm{0\\ell,r,1}=-0.0436\\, \\text{rad}\\\\A_{\\alpha,2} = \\dfrac{\\alpha_\\mathrm{0\\ell,t,2}-\\alpha_\\mathrm{0\\ell,r,2}}{ b_{\\mathrm{2}}/2} =2\\dfrac{-0.0175\\,\\text{rad}-(-0.0436\\, \\text{rad})}{4.24\\, \\text{m}}=0.0123\\,\\text{rad/m}\\\\B_{\\alpha,1}=\\alpha_\\mathrm{0\\ell,r,1}=-0.0436\\, \\text{rad}\\end{array}"
      ],
      "text/plain": [
       "<IPython.core.display.Latex object>"
      ]
     },
     "execution_count": 8,
     "metadata": {},
     "output_type": "execute_result"
    }
   ],
   "source": [
    "A_0l_1 = 2*(alpha0l_k - alpha0l_r)/b_k; B_0l_1 = alpha0l_r;\n",
    "A_0l_2 = (alpha0l_t - alpha0l_k)/(b/2 - b_k/2); B_0l_2 = alpha0l_k;\n",
    "display_workflowAalpha_cw(alpha0l_t ,alpha0l_r ,alpha0l_r ,A_0l_1,B_0l_1,A_0l_2,B_0l_2,b_k,b_k2)"
   ]
  },
  {
   "cell_type": "markdown",
   "metadata": {},
   "source": [
    "So we have:"
   ]
  },
  {
   "cell_type": "code",
   "execution_count": 9,
   "metadata": {
    "collapsed": false
   },
   "outputs": [
    {
     "data": {
      "text/latex": [
       "\\begin{equation}\\epsilon_{g}(Y) =\\begin{cases}\\epsilon_{g,1}(Y)=0.0\\, \\text{rad/m}\\,Y+-0.0436\\, \\text{rad}& \\text{if $\\;0\\,\\text{m} \\le Y \\le3.18$} \\, \\text{m}\\\\[0.5em]\\epsilon_{g,2}(Y)=0.0123\\,\\text{rad/m}\\big(Y-3.18\\, \\text{m}\\big)+-0.0436 \\, \\text{rad}& \\text{if $\\;3.18\\, \\text{m}< Y \\le5.3\\,\\text{m}$}\\end{cases}\\end{equation}"
      ],
      "text/plain": [
       "<IPython.core.display.Latex object>"
      ]
     },
     "execution_count": 9,
     "metadata": {},
     "output_type": "execute_result"
    }
   ],
   "source": [
    "display_workflowsystemalpha(A_0l_1,B_0l_1,A_0l_2,B_0l_2,b_k,b)"
   ]
  },
  {
   "cell_type": "markdown",
   "metadata": {},
   "source": [
    "The function $\\epsilon_{\\mathrm{g}}(y)$ is the piecewise law that gives the geometric twist of the wing sectiont at the generic spanwise station $y\\in \\big[0,\\frac{1}{2}b\\big]$. This has the form\n",
    "\n",
    "\\begin{equation}\n",
    "\\epsilon_{\\mathrm{g}}(y) = \n",
    "\\begin{cases}\n",
    "A_{\\epsilon,1} \\, y + B_{\\epsilon,1}  & \\text{if $\\;0\\le y \\le \\frac{1}{2}b_{\\mathrm{k}}$} \\\\[0.5em]\n",
    "A_{\\epsilon,2} \\, \\big( y - \\frac{1}{2}b_{\\mathrm{k}} \\big) + B_{\\epsilon,2} & \\text{if $\\;\\frac{1}{2}b_{\\mathrm{k}} < y \\le \\frac{1}{2}b$}\n",
    "\\end{cases}\n",
    "\\end{equation}\n",
    "\n",
    "with \n",
    "\n",
    "\\begin{equation}\n",
    "A_{\\epsilon} = \n",
    "\\begin{cases}\n",
    "A_{\\epsilon,1} = \\dfrac{2}{b_{\\mathrm{k}}}\\, \\epsilon_{\\mathrm{g,k}}\n",
    "  & \\text{if $\\;0\\le y \\le \\frac{1}{2}b_{\\mathrm{k}}$} \\\\[0.5em]\n",
    "A_{\\epsilon,2} = \\dfrac{2}{b - b_{\\mathrm{k}}}\\, \\big( \\epsilon_{\\mathrm{g,t}} - \\epsilon_{\\mathrm{g,k}} \\big)\n",
    "  & \\text{if $\\;\\frac{1}{2}b_{\\mathrm{k}} < y \\le \\frac{1}{2}b$}\n",
    "\\end{cases}\n",
    "\\end{equation}\n",
    "\n",
    "and\n",
    "\n",
    "\\begin{equation}\n",
    "B_{\\epsilon} = \n",
    "\\begin{cases}\n",
    "B_{\\epsilon,1} = 0 \\, \\mathrm{rad}\n",
    "  & \\text{if $\\;0\\le y \\le \\frac{1}{2}b_{\\mathrm{k}}$} \\\\[0.5em]\n",
    "B_{\\epsilon,2} = \\epsilon_{\\mathrm{g,k}}\n",
    "  & \\text{if $\\;\\frac{1}{2}b_{\\mathrm{k}} < y \\le \\frac{1}{2}b$}\n",
    "\\end{cases}\n",
    "\\end{equation}"
   ]
  },
  {
   "cell_type": "markdown",
   "metadata": {},
   "source": [
    "The following code defines function $\\epsilon_{\\mathrm{g}}(y)$ calculating the above two coefficients:"
   ]
  },
  {
   "cell_type": "code",
   "execution_count": 10,
   "metadata": {
    "collapsed": false
   },
   "outputs": [
    {
     "data": {
      "text/latex": [
       "\\begin{array}{ll}A_{\\epsilon,1}=\\dfrac{\\epsilon_{g,t,1}-\\epsilon_{g,r,1}}{b_1/2}=2\\dfrac{0.0\\,\\text{rad}-(0.0\\, \\text{rad})}{6.36\\, \\text{m}}=0.0\\,\\text{rad/m}\\\\B_{\\epsilon,1}=\\epsilon_{g,r,1}=0.0\\, \\text{rad}\\\\A_{\\epsilon,2}=\\dfrac{\\epsilon_{g,t,2}-\\epsilon_{g,r,2}}{b_2/2}=2\\dfrac{-0.0524\\,\\text{rad}-(0.0\\, \\text{rad})}{4.24\\, \\text{m}}=-0.0247\\,\\text{rad/m}\\\\B_{\\epsilon,2}=\\epsilon_{g,r,2}=0.0\\, \\text{rad}\\end{array}"
      ],
      "text/plain": [
       "<IPython.core.display.Latex object>"
      ]
     },
     "execution_count": 10,
     "metadata": {},
     "output_type": "execute_result"
    }
   ],
   "source": [
    "A_eps1=eps_k*math.pi/180*2/b_k\n",
    "B_eps1=eps_r\n",
    "A_eps2=2*(eps_t-eps_k)/(b_k2)\n",
    "B_eps2=eps_k\n",
    "display_workflowAepsilon_cw(eps_t,eps_k,eps_r,A_eps1,B_eps1,A_eps2,B_eps2,b_k,b_k2)"
   ]
  },
  {
   "cell_type": "code",
   "execution_count": 11,
   "metadata": {
    "collapsed": false
   },
   "outputs": [
    {
     "data": {
      "text/latex": [
       "\\begin{equation}\\epsilon_{g}(Y) =\\begin{cases}\\epsilon_{g,1}(Y)=0.0\\, \\text{rad/m}\\,Y+0.0\\, \\text{rad}& \\text{if $\\;0\\,\\text{m} \\le Y \\le3.18$} \\, \\text{m}\\\\[0.5em]\\epsilon_{g,2}(Y)=-0.0247\\,\\text{rad/m}\\big(Y-3.18\\, \\text{m}\\big)+0.0 \\, \\text{rad}& \\text{if $\\;3.18\\, \\text{m}< Y \\le5.3\\,\\text{m}$}\\end{cases}\\end{equation}"
      ],
      "text/plain": [
       "<IPython.core.display.Latex object>"
      ]
     },
     "execution_count": 11,
     "metadata": {},
     "output_type": "execute_result"
    }
   ],
   "source": [
    "display_workflowsystemalpha(A_eps1,B_eps1,A_eps2,B_eps2,b_k,b)"
   ]
  },
  {
   "cell_type": "code",
   "execution_count": 12,
   "metadata": {
    "collapsed": false
   },
   "outputs": [
    {
     "data": {
      "image/png": "[encoded data removed]",
      "text/plain": [
       "<matplotlib.figure.Figure at 0x1c5ace72940>"
      ]
     },
     "metadata": {},
     "output_type": "display_data"
    }
   ],
   "source": [
    "plot_wing_functions(c_r, c_k, c_t, \n",
    "                    eps_k, eps_t, alpha0l_r, alpha0l_k, alpha0l_t,\n",
    "                    b_k, b, Lambda_le_1, Lambda_le_2,\n",
    "                    n_points = 20, \n",
    "                    ymax = 5, ymin = -7,\n",
    "                    figsize = (11,5), vshift_xaxis=10,                    \n",
    "                    f_twist = f_twist,\n",
    "                    f_alpha0l = f_alpha0l)"
   ]
  },
  {
   "cell_type": "markdown",
   "metadata": {},
   "source": [
    "### Reference surface $S$ and taper ratio $\\lambda$"
   ]
  },
  {
   "cell_type": "markdown",
   "metadata": {},
   "source": [
    "Let us calculate the last necessary data."
   ]
  },
  {
   "cell_type": "markdown",
   "metadata": {},
   "source": [
    "The inner taper ratio is defined by :"
   ]
  },
  {
   "cell_type": "markdown",
   "metadata": {},
   "source": [
    "\\begin{equation}\n",
    "\\lambda_1 = \\frac{ c_{\\mathrm{k}} }{ c_{\\mathrm{r}} }\n",
    "\\end{equation}"
   ]
  },
  {
   "cell_type": "code",
   "execution_count": 13,
   "metadata": {
    "collapsed": false
   },
   "outputs": [
    {
     "data": {
      "text/latex": [
       "$$\\lambda_{1} =\\,1.0$$"
      ],
      "text/plain": [
       "<IPython.core.display.Math object>"
      ]
     },
     "metadata": {},
     "output_type": "display_data"
    }
   ],
   "source": [
    "taper_1=c_k/c_r\n",
    "display(Math(r'\\lambda_{1} =\\,' + '{0:.3}'.format(taper_1)))"
   ]
  },
  {
   "cell_type": "markdown",
   "metadata": {},
   "source": [
    "The outer taper ratio is :"
   ]
  },
  {
   "cell_type": "markdown",
   "metadata": {},
   "source": [
    "\\begin{equation}\n",
    "\\lambda_2 = \\frac{ c_{\\mathrm{k}} }{ c_{\\mathrm{r}} }\n",
    "\\end{equation}"
   ]
  },
  {
   "cell_type": "code",
   "execution_count": 14,
   "metadata": {
    "collapsed": false
   },
   "outputs": [
    {
     "data": {
      "text/latex": [
       "$$\\lambda_{2} =\\,0.597$$"
      ],
      "text/plain": [
       "<IPython.core.display.Math object>"
      ]
     },
     "metadata": {},
     "output_type": "display_data"
    }
   ],
   "source": [
    "taper_2=c_t/c_k\n",
    "display(Math(r'\\lambda_{2} =\\,' + '{0:.3}'.format(taper_2)))"
   ]
  },
  {
   "cell_type": "markdown",
   "metadata": {},
   "source": [
    "The inner panel reference surface is given by : "
   ]
  },
  {
   "cell_type": "code",
   "execution_count": 15,
   "metadata": {
    "collapsed": false
   },
   "outputs": [
    {
     "data": {
      "text/latex": [
       "\\begin{align*}S_{1}=\\frac{b_1}{2}c_{r,1} (1+\\lambda_1)=9.16\\text{m} ^2\\end{align*}"
      ],
      "text/plain": [
       "<IPython.core.display.Latex object>"
      ]
     },
     "execution_count": 15,
     "metadata": {},
     "output_type": "execute_result"
    }
   ],
   "source": [
    "S_i= (b_k)/2 * c_r * (1 + taper_1)\n",
    "Latex(\n",
    "    r'\\begin{align*}'\n",
    "     + r'S_{1}=\\frac{b_1}{2}c_{r,1} (1+\\lambda_1)='\n",
    "     + r'{0:.3}'  .format(S_i)\n",
    "     + r'\\text{m} ^2'\n",
    "    +r'\\end{align*}'\n",
    ")"
   ]
  },
  {
   "cell_type": "markdown",
   "metadata": {},
   "source": [
    "while the outer one:"
   ]
  },
  {
   "cell_type": "code",
   "execution_count": 16,
   "metadata": {
    "collapsed": false
   },
   "outputs": [
    {
     "data": {
      "text/latex": [
       "\\begin{align*}S_{2}=\\frac{b_2}{2}c_{r,2} (1+\\lambda_1)=4.88\\text{m} ^2\\end{align*}"
      ],
      "text/plain": [
       "<IPython.core.display.Latex object>"
      ]
     },
     "execution_count": 16,
     "metadata": {},
     "output_type": "execute_result"
    }
   ],
   "source": [
    "S_o= (b_k2)/2 * c_k * (1 + taper_2)\n",
    "Latex(\n",
    "    r'\\begin{align*}'\n",
    "    +r'S_{2}=\\frac{b_2}{2}c_{r,2} (1+\\lambda_1)='\n",
    "    +r'{0:.3}'  .format(S_o)\n",
    "    +r'\\text{m} ^2'\n",
    "    +r'\\end{align*}'\n",
    ")\n"
   ]
  },
  {
   "cell_type": "markdown",
   "metadata": {},
   "source": [
    "And so the total reference surface : "
   ]
  },
  {
   "cell_type": "code",
   "execution_count": 17,
   "metadata": {
    "collapsed": false
   },
   "outputs": [
    {
     "data": {
      "text/latex": [
       "\\begin{align*}S &=S_1\\,+\\,S_2\\,=\\,9.158\\,\\text{m}^2\\,+\\,4.876\\,\\text{m}^2\\,=\\,14.03\\,\\text{m}^2\\end{align*}"
      ],
      "text/plain": [
       "<IPython.core.display.Latex object>"
      ]
     },
     "execution_count": 17,
     "metadata": {},
     "output_type": "execute_result"
    }
   ],
   "source": [
    "S=S_i+S_o\n",
    "Latex( r'\\begin{align*}'\n",
    "        + r'S &' + r'='+r'S_1\\,+\\,S_2' + r'\\,=\\,'\n",
    "        + r'{0:.4}'.format(S_i) + r'\\,\\text{m}^2' +r'\\,+\\,'  + r'{0:.4}'.format(S_o) + r'\\,\\text{m}^2' + r'\\,=\\,'\n",
    "        + r'{0:.4}'.format(S) + r'\\,\\text{m}^2'\n",
    "      + r'\\end{align*}'\n",
    ")"
   ]
  },
  {
   "cell_type": "markdown",
   "metadata": {},
   "source": [
    "At this point we can now finally calculate the zero-lift angle of the finite wing. "
   ]
  },
  {
   "cell_type": "markdown",
   "metadata": {},
   "source": [
    "## The wing zero-lift angle of attack $\\alpha_{0L,\\mathrm{W}}$"
   ]
  },
  {
   "cell_type": "markdown",
   "metadata": {},
   "source": [
    "The zero-lift angle of attack is given by the following formula:"
   ]
  },
  {
   "cell_type": "markdown",
   "metadata": {},
   "source": [
    "\\begin{equation}\n",
    "\\alpha_{0L,\\mathrm{W}} \n",
    "  = \\frac{2}{S} \\int_0^{b/2} \n",
    "    \\big[\\alpha_{0\\ell}(y) - \\epsilon_{\\mathrm{g}}(y)\\big]\n",
    "    c(y) \\, \\mathrm{d}y\n",
    "\\end{equation}"
   ]
  },
  {
   "cell_type": "markdown",
   "metadata": {},
   "source": [
    "where the functions $c(y)$, $\\alpha_{0\\ell}(y)$, and $\\epsilon_{\\mathrm{g}}(y)$ are the piecewise linear functions defined above."
   ]
  },
  {
   "cell_type": "markdown",
   "metadata": {},
   "source": [
    "For a two-panel cranked wing the formula becomes : "
   ]
  },
  {
   "cell_type": "markdown",
   "metadata": {},
   "source": [
    "\\begin{equation}\n",
    "\\alpha_{0L,\\mathrm{W}} \n",
    "  = \\frac{2}{S} \\int_0^{b_1/2} \n",
    "    \\big[\\alpha_{0\\ell,1}(y) - \\epsilon_{\\mathrm{g,1}}(y)\\big]\n",
    "    c(y) \\, \\mathrm{d}y + \\frac{2}{S} \\int_{b_1/2}^{b_2/2} \n",
    "    \\big[\\alpha_{0\\ell,2}(y) - \\epsilon_{\\mathrm{g,2}}(y)\\big]\n",
    "    c(y) \\, \\mathrm{d}y\n",
    "\\end{equation}"
   ]
  },
  {
   "cell_type": "markdown",
   "metadata": {},
   "source": [
    "By extending the previous formula we have :"
   ]
  },
  {
   "cell_type": "markdown",
   "metadata": {},
   "source": [
    "\\begin{equation}\n",
    "\\alpha_{0L,\\mathrm{W}} \n",
    "  = \\frac{2}{S} \\int_0^{b_1/2} \n",
    "    \\big[(A_{\\alpha,1}Y + B_{\\alpha,1}) - A_{\\epsilon,1}Y\\big](A_{c,1}Y + B_{c,1})\n",
    "     \\mathrm{d}y + \\\\ \\frac{2}{S} \\int_{b_1/2}^{b_2/2} \n",
    "    \\big[A_{\\alpha,2}(Y - \\frac{b_1}{2}) + B_{\\alpha,2} - A_{\\epsilon,2}(Y - \\frac{b_1}{2}) - B_{\\epsilon,2}\\big]\\\\ \\cdot\\big[A_{c,2}(Y - \\frac{b_1}{2})+ B_{c,2}\\big]\n",
    "     \\mathrm{d}y\n",
    "\\end{equation}"
   ]
  },
  {
   "cell_type": "code",
   "execution_count": 18,
   "metadata": {
    "collapsed": false
   },
   "outputs": [
    {
     "data": {
      "image/png": "[encoded data removed]",
      "text/plain": [
       "<matplotlib.figure.Figure at 0x1c5ad1c3828>"
      ]
     },
     "metadata": {},
     "output_type": "display_data"
    }
   ],
   "source": [
    "plot_wing_functions(c_r, c_k, c_t, \n",
    "                    eps_k, eps_t, alpha0l_r, alpha0l_k, alpha0l_t,\n",
    "                    b_k, b, Lambda_le_1, Lambda_le_2,\n",
    "                    n_points = 20, \n",
    "                    ymax = 20, ymin = -20,\n",
    "                    figsize = (11,7), vshift_xaxis=10,                    \n",
    "                    f_chord = f_chord,\n",
    "                    f_twist = f_twist,\n",
    "                    f_alpha0l = f_alpha0l,\n",
    "                    f_alpha0L_integral = f_alpha0l_epsg_c)"
   ]
  },
  {
   "cell_type": "markdown",
   "metadata": {},
   "source": [
    "Let us calculate the just defined integral for both the inner and the outher panel :"
   ]
  },
  {
   "cell_type": "code",
   "execution_count": 19,
   "metadata": {
    "collapsed": false
   },
   "outputs": [
    {
     "data": {
      "text/latex": [
       "$$\\alpha_\\mathrm{0L,w,1} = -0.02847\\,\\mathrm{rad} \\, = -1.631\\,\\mathrm{deg}$$"
      ],
      "text/plain": [
       "<IPython.core.display.Math object>"
      ]
     },
     "metadata": {},
     "output_type": "display_data"
    }
   ],
   "source": [
    "alpha0L_1=integrate_alfa_0l(A_0l_1,B_0l_1,A_eps1,A_1,B_1,b_k,S)[0]\n",
    "display(Math(r'\\alpha_\\mathrm{0L,w,1} = '+ '{0:.4}'.format(alpha0L_1) +'\\,\\mathrm{rad} \\, = ' + '{0:.4}'.format(alpha0L_1*180/math.pi)+'\\,\\mathrm{deg}'))"
   ]
  },
  {
   "cell_type": "code",
   "execution_count": 20,
   "metadata": {
    "collapsed": false
   },
   "outputs": [
    {
     "data": {
      "text/latex": [
       "$$\\alpha_\\mathrm{0L,w,2} = -0.002663\\,\\mathrm{rad} \\, = -0.1526\\,\\mathrm{deg}$$"
      ],
      "text/plain": [
       "<IPython.core.display.Math object>"
      ]
     },
     "metadata": {},
     "output_type": "display_data"
    }
   ],
   "source": [
    "alpha0L_2=integrate_alfa_0l_cw_outer(A_0l_2,B_0l_2,A_eps2,B_eps2,A_2,B_2,b_k,b,S)[0]\n",
    "display(Math(r'\\alpha_\\mathrm{0L,w,2} = '+ '{0:.4}'.format(alpha0L_2) +'\\,\\mathrm{rad} \\, = ' + '{0:.4}'.format(alpha0L_2*180/math.pi)+'\\,\\mathrm{deg}'))"
   ]
  },
  {
   "cell_type": "code",
   "execution_count": 21,
   "metadata": {
    "collapsed": false
   },
   "outputs": [
    {
     "data": {
      "text/latex": [
       "\\begin{align*}\\alpha_{0,L}=\\alpha_{0L,1}+\\alpha_{0L,2}=-1.78\\text{°} \\end{align*}"
      ],
      "text/plain": [
       "<IPython.core.display.Latex object>"
      ]
     },
     "execution_count": 21,
     "metadata": {},
     "output_type": "execute_result"
    }
   ],
   "source": [
    "alpha0L=alpha0L_1+alpha0L_2\n",
    "Latex(\n",
    "    r'\\begin{align*}'\n",
    "    +r'\\alpha_{0,L}=\\alpha_{0L,1}+\\alpha_{0L,2}='\n",
    "    +r'{0:.3}'  .format(alpha0L*180/math.pi)\n",
    "    +r'\\text{°} '\n",
    "    +r'\\end{align*}'\n",
    ")"
   ]
  },
  {
   "cell_type": "markdown",
   "metadata": {},
   "source": [
    "Here there is the full workflow :"
   ]
  },
  {
   "cell_type": "code",
   "execution_count": 22,
   "metadata": {
    "collapsed": false
   },
   "outputs": [
    {
     "data": {
      "text/latex": [
       "\\begin{multline*}\\alpha_{0L,\\mathrm{W}} = \\frac{2}{14.03\\,\\text{m}^2}\\int_0^{3.18}\\Big(0.0\\, \\frac{\\text{rad}}{\\text{m}}\\,y -0.04363\\,\\text{rad} +0.0\\,\\frac{\\text{rad}}{\\text{m}}y\\Big)\\, \\cdot\\Big(0.0\\, y + 1.44\\,\\text{m}\\Big)\\,\\text{d}y\\\\+\\frac{2}{14.03\\,\\text{m}^2}\\int_{3.18}^{5.3}\\Big[0.01235\\, \\frac{\\text{rad}}{\\text{m}}\\,(Y - 3.18\\, \\text{m}\\,)-0.04363\\,\\text{rad}-0.0247\\,\\frac{\\text{rad}}{\\text{m}}(Y - 3.18\\,\\text{m}\\,) + 0.0\\Big]\\,\\Big[-0.2736\\, (Y - 3.18\\, \\text{m}\\,) +1.44\\,\\text{m}\\Big]\\,\\text{d}y\\\\[1em]= \\frac{2}{14.03\\,\\text{m}^2} \\big(- 0.0628318530717959 y\\big)\\Bigr|_0^{3.18} \\,\\text{rad} + \\frac{2}{14.03\\,\\text{m}^2} \\big(- 0.0628318530717959 y\\big)\\Bigr|_{3.18}^{5.3} \\,\\text{rad}\\\\[1em]= -0.02847\\,\\text{rad} -0.002663\\,\\text{rad}= -1.784\\,\\text{deg}\\end{multline*}"
      ],
      "text/plain": [
       "<IPython.core.display.Latex object>"
      ]
     },
     "execution_count": 22,
     "metadata": {},
     "output_type": "execute_result"
    }
   ],
   "source": [
    "alpha0L_law_integral_indefinite_1=integrate_alfa_0l(A_0l_1,B_0l_1,A_eps1,A_1,B_1,b_k,S)[1]\n",
    "alpha0L_law_integral_indefinite_2=integrate_alfa_0l_cw_outer(A_0l_1,B_0l_1,A_eps1,B_eps2,A_1,B_1,b_k,b,S)[1]\n",
    "display_workflow_alpha0L_cw(b, b_k, S, A_1, B_1, A_0l_1, B_0l_1, A_eps1,B_eps2,\n",
    "                             A_2, B_2, A_0l_2, B_0l_2, A_eps2, B_eps2,\n",
    "                             alpha0L_law_integral_indefinite_1,alpha0L_law_integral_indefinite_2,\n",
    "                             alpha0L_1,alpha0L_2,alpha0L)"
   ]
  }
 ],
 "metadata": {
  "anaconda-cloud": {},
  "hide_input": false,
  "kernelspec": {
   "display_name": "Python [Root]",
   "language": "python",
   "name": "Python [Root]"
  },
  "language_info": {
   "codemirror_mode": {
    "name": "ipython",
    "version": 3
   },
   "file_extension": ".py",
   "mimetype": "text/x-python",
   "name": "python",
   "nbconvert_exporter": "python",
   "pygments_lexer": "ipython3",
   "version": "3.5.2"
  },
  "toc": {
   "toc_cell": false,
   "toc_number_sections": true,
   "toc_threshold": 6,
   "toc_window_display": false
  }
 },
 "nbformat": 4,
 "nbformat_minor": 0
}
