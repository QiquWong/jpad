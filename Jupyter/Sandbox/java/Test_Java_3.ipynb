{
 "cells": [
  {
   "cell_type": "markdown",
   "metadata": {},
   "source": [
    "# Testing the HDF5 Library with Jupyter/BeakerX Java kernel\n",
    "\n",
    "— Agostino De Marco, University of Naples Federico II\n",
    "\n",
    "This Jupyter notebook uses the [BeakerX Java kernel](http://beakerx.com). The purpose is demonstrating the use of Java and of external native libraries in the context of a notebook. The library used here is [HDF5 by the HDF Group](https://www.hdfgroup.org/), a high performance data software library and file format to manage, process, and store your heterogeneous data. HDF5 is built for fast I/O processing and storage."
   ]
  },
  {
   "cell_type": "markdown",
   "metadata": {},
   "source": [
    "## Classpath extras"
   ]
  },
  {
   "cell_type": "code",
   "execution_count": 1,
   "metadata": {},
   "outputs": [
    {
     "name": "stdout",
     "output_type": "stream",
     "text": [
      "Added jar: [jarh4obj.jar]\n",
      "Added jar: [jarh5obj.jar]\n",
      "Added jar: [jarhdfobj.jar]\n",
      "Added jar: [jarhdf-2.10.1.jar]\n",
      "Added jar: [jarhdf5-2.10.1.jar]\n",
      "Added jar: [slf4j-api-1.7.5.jar]\n",
      "C:\\Users\\agodemar\\AppData\\Local\\Temp\\beaker5688901765675768403\\outDir\n",
      "C:\\Users\\agodemar\\Dropbox\\Jupyter_2\\beakerx\\jarh4obj.jar\n",
      "C:\\Users\\agodemar\\Dropbox\\Jupyter_2\\beakerx\\jarh5obj.jar\n",
      "C:\\Users\\agodemar\\Dropbox\\Jupyter_2\\beakerx\\jarhdfobj.jar\n",
      "C:\\Users\\agodemar\\Dropbox\\Jupyter_2\\beakerx\\jarhdf-2.10.1.jar\n",
      "C:\\Users\\agodemar\\Dropbox\\Jupyter_2\\beakerx\\jarhdf5-2.10.1.jar\n",
      "C:\\Users\\agodemar\\Dropbox\\Jupyter_2\\beakerx\\slf4j-api-1.7.5.jar\n"
     ]
    }
   ],
   "source": [
    "%classpath add jar ./jarh4obj.jar\n",
    "%classpath add jar ./jarh5obj.jar\n",
    "%classpath add jar ./jarhdfobj.jar\n",
    "%classpath add jar ./jarhdf-2.10.1.jar\n",
    "%classpath add jar ./jarhdf5-2.10.1.jar\n",
    "%classpath add jar ./slf4j-api-1.7.5.jar\n",
    "%classpath"
   ]
  },
  {
   "cell_type": "markdown",
   "metadata": {},
   "source": [
    "## Check the native libs"
   ]
  },
  {
   "cell_type": "code",
   "execution_count": 2,
   "metadata": {},
   "outputs": [
    {
     "name": "stdout",
     "output_type": "stream",
     "text": [
      ".\\concrt140.dll\n",
      ".\\jhdf.dll\n",
      ".\\jhdf.lib\n",
      ".\\jhdf5.dll\n",
      ".\\jhdf5.lib\n",
      ".\\libhdf.lib\n",
      ".\\libhdf5.lib\n",
      ".\\libjpeg.lib\n",
      ".\\libmfhdf.lib\n",
      ".\\libszip.lib\n",
      ".\\libxdr.lib\n",
      ".\\libzlib.lib\n",
      ".\\msvcp140.dll\n",
      ".\\tigl3.dll\n",
      ".\\tigl3.lib\n",
      ".\\tixi3.dll\n",
      ".\\vcomp140.dll\n",
      ".\\vcruntime140.dll\n"
     ]
    },
    {
     "data": {
      "text/plain": [
       "null"
      ]
     },
     "execution_count": 2,
     "metadata": {},
     "output_type": "execute_result"
    }
   ],
   "source": [
    "import java.nio.file.*;\n",
    "Files.list(Paths.get(\".\")) // a stream of paths\n",
    "    .map(path -> path.toString().toLowerCase())\n",
    "    .filter(name -> name.matches(\"([^\\\\s]+(\\\\.(?i)(lib|dll))$)\")) // use regex\n",
    "    .forEach(System.out::println);"
   ]
  },
  {
   "cell_type": "markdown",
   "metadata": {},
   "source": [
    "## Global scope imports"
   ]
  },
  {
   "cell_type": "code",
   "execution_count": 3,
   "metadata": {},
   "outputs": [],
   "source": [
    "%import ncsa.hdf.hdf5lib.*\n",
    "%import ncsa.hdf.object.*\n",
    "%import ncsa.hdf.object.h5.*\n",
    "%import ncsa.hdf.hdf5lib.structs.*\n",
    "%import ncsa.hdf.hdf5lib.callbacks.*\n",
    "%import java.util.ArrayList"
   ]
  },
  {
   "cell_type": "markdown",
   "metadata": {},
   "source": [
    "## Explore a HDF5 file"
   ]
  },
  {
   "cell_type": "code",
   "execution_count": 4,
   "metadata": {},
   "outputs": [
    {
     "name": "stderr",
     "output_type": "stream",
     "text": [
      "2018-02-05 14:50:55:882 +0100 [javash0] INFO ncsa.hdf.hdf5lib.H5 - HDF5 library: jhdf5\n",
      "2018-02-05 14:50:55:885 +0100 [javash0] INFO ncsa.hdf.hdf5lib.H5 -  successfully loaded from java.library.path\n"
     ]
    },
    {
     "name": "stdout",
     "output_type": "stream",
     "text": [
      "/  (Group)\n",
      "/KFv_vs_bv_over_dfv  (Group)\n",
      "/KFv_vs_bv_over_dfv/data  (Dataset)\n",
      "/KFv_vs_bv_over_dfv/var_0  (Dataset)\n",
      "/KFv_vs_bv_over_dfv/var_1  (Dataset)\n",
      "/KHf_vs_zh_over_bv1_high_wing  (Group)\n",
      "/KHf_vs_zh_over_bv1_high_wing/data  (Dataset)\n",
      "/KHf_vs_zh_over_bv1_high_wing/var_0  (Dataset)\n",
      "/KHf_vs_zh_over_bv1_high_wing/var_1  (Dataset)\n",
      "/KHf_vs_zh_over_bv1_high_wing/var_2  (Dataset)\n",
      "/KHf_vs_zh_over_bv1_low_wing  (Group)\n",
      "/KHf_vs_zh_over_bv1_low_wing/data  (Dataset)\n",
      "/KHf_vs_zh_over_bv1_low_wing/var_0  (Dataset)\n",
      "/KHf_vs_zh_over_bv1_low_wing/var_1  (Dataset)\n",
      "/KHf_vs_zh_over_bv1_low_wing/var_2  (Dataset)\n",
      "/KHf_vs_zh_over_bv1_mid_wing  (Group)\n",
      "/KHf_vs_zh_over_bv1_mid_wing/data  (Dataset)\n",
      "/KHf_vs_zh_over_bv1_mid_wing/var_0  (Dataset)\n",
      "/KHf_vs_zh_over_bv1_mid_wing/var_1  (Dataset)\n",
      "/KHf_vs_zh_over_bv1_mid_wing/var_2  (Dataset)\n",
      "/KHv_vs_zh_over_bv1_high_wing  (Group)\n",
      "/KHv_vs_zh_over_bv1_high_wing/data  (Dataset)\n",
      "/KHv_vs_zh_over_bv1_high_wing/var_0  (Dataset)\n",
      "/KHv_vs_zh_over_bv1_high_wing/var_1  (Dataset)\n",
      "/KHv_vs_zh_over_bv1_high_wing/var_2  (Dataset)\n",
      "/KHv_vs_zh_over_bv1_low_wing  (Group)\n",
      "/KHv_vs_zh_over_bv1_low_wing/data  (Dataset)\n",
      "/KHv_vs_zh_over_bv1_low_wing/var_0  (Dataset)\n",
      "/KHv_vs_zh_over_bv1_low_wing/var_1  (Dataset)\n",
      "/KHv_vs_zh_over_bv1_low_wing/var_2  (Dataset)\n",
      "/KHv_vs_zh_over_bv1_mid_wing  (Group)\n",
      "/KHv_vs_zh_over_bv1_mid_wing/data  (Dataset)\n",
      "/KHv_vs_zh_over_bv1_mid_wing/var_0  (Dataset)\n",
      "/KHv_vs_zh_over_bv1_mid_wing/var_1  (Dataset)\n",
      "/KHv_vs_zh_over_bv1_mid_wing/var_2  (Dataset)\n",
      "/KVf_vs_bv_over_dfv  (Group)\n",
      "/KVf_vs_bv_over_dfv/data  (Dataset)\n",
      "/KVf_vs_bv_over_dfv/var_0  (Dataset)\n",
      "/KVf_vs_bv_over_dfv/var_1  (Dataset)\n",
      "/KWf_vs_zw_over_rf  (Group)\n",
      "/KWf_vs_zw_over_rf/data  (Dataset)\n",
      "/KWf_vs_zw_over_rf/var_0  (Dataset)\n",
      "/KWf_vs_zw_over_rf/var_1  (Dataset)\n",
      "/KWf_vs_zw_over_rf/var_2  (Dataset)\n",
      "/KWv_vs_zw_over_rf  (Group)\n",
      "/KWv_vs_zw_over_rf/data  (Dataset)\n",
      "/KWv_vs_zw_over_rf/var_0  (Dataset)\n",
      "/KWv_vs_zw_over_rf/var_1  (Dataset)\n",
      "/KWv_vs_zw_over_rf/var_2  (Dataset)\n"
     ]
    },
    {
     "data": {
      "text/plain": [
       "null"
      ]
     },
     "execution_count": 4,
     "metadata": {},
     "output_type": "execute_result"
    }
   ],
   "source": [
    "package test.hdf5;\n",
    "\n",
    "String fileName = \"VeDSC_database.h5\";\n",
    "H5File fileH5 = null;\n",
    "try {\n",
    "    fileH5 = new H5File(fileName, FileFormat.READ);\n",
    "    H5Group rootGroup = (H5Group) fileH5.get(\"/\");\n",
    "    String datasetFullName = \"/KFv_vs_bv_over_dfv\";\n",
    "    \n",
    "    int o_id = -1;\n",
    "    int objType;\n",
    "    H5O_info_t info;\n",
    "\n",
    "    // check start from root\n",
    "    o_id = rootGroup.open();\n",
    "    info = H5.H5Oget_info(o_id);\n",
    "    objType = info.type;\n",
    "\n",
    "    class idata {\n",
    "        public String link_name = null;\n",
    "        public int link_type = -1;\n",
    "        idata(String name, int type) {\n",
    "            this.link_name = name;\n",
    "            this.link_type = type;\n",
    "        }\n",
    "    }\n",
    "    class H5O_iter_data implements H5O_iterate_t {\n",
    "        public ArrayList<idata> iterdata = new ArrayList<idata>();\n",
    "    }\n",
    "    class H5O_iter_callback implements H5O_iterate_cb {\n",
    "        public int callback(int group, String name, H5O_info_t info, H5O_iterate_t op_data) {\n",
    "            idata id = new idata(name, info.type);\n",
    "            ((H5O_iter_data)op_data).iterdata.add(id);\n",
    "\n",
    "            System.out.print(\"/\"); /* Print root group in object path */\n",
    "\n",
    "            //Check if the current object is the root group, and if not print the full path name and type.\n",
    "\n",
    "            if (name.charAt(0) == '.')         /* Root group, do not print '.' */\n",
    "                System.out.println(\"  (Group)\");\n",
    "            else if(info.type == HDF5Constants.H5O_TYPE_GROUP ) \n",
    "                System.out.println(name + \"  (Group)\" );\n",
    "            else if(info.type == HDF5Constants.H5O_TYPE_DATASET)\n",
    "                System.out.println(name + \"  (Dataset)\");\n",
    "            else if (info.type == HDF5Constants.H5O_TYPE_NAMED_DATATYPE )\n",
    "                System.out.println(name + \"  (Datatype)\");\n",
    "            else\n",
    "                System.out.println(name + \"  (Unknown)\");\n",
    "\n",
    "            return 0;\n",
    "        }\n",
    "    }\n",
    "    \n",
    "    H5O_iterate_t iter_data = new H5O_iter_data();\n",
    "    H5O_iterate_cb iter_cb = new H5O_iter_callback();\n",
    "\n",
    "    // recursive visit\n",
    "    H5.H5Ovisit(\n",
    "        fileH5.getFID(), \n",
    "        HDF5Constants.H5_INDEX_NAME, \n",
    "        HDF5Constants.H5_ITER_NATIVE, \n",
    "        iter_cb, \n",
    "        iter_data\n",
    "    );\n",
    "\n",
    "} catch (Exception e) {\n",
    "    System.out.println(\"ERROR!\");\n",
    "    e.printStackTrace();\n",
    "} finally {\n",
    "    fileH5.close();\n",
    "}"
   ]
  },
  {
   "cell_type": "code",
   "execution_count": null,
   "metadata": {},
   "outputs": [],
   "source": []
  }
 ],
 "metadata": {
  "kernelspec": {
   "display_name": "Java",
   "language": "java",
   "name": "java"
  },
  "language_info": {
   "codemirror_mode": "text/x-java",
   "file_extension": ".java",
   "mimetype": "",
   "name": "Java",
   "nbconverter_exporter": "",
   "version": "1.8.0_121"
  }
 },
 "nbformat": 4,
 "nbformat_minor": 2
}
