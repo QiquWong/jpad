{
 "cells": [
  {
   "cell_type": "markdown",
   "metadata": {},
   "source": [
    "# Testing BeakerX Java kernel\n",
    "BeakerX supports Java cells that define classes, which can be used by other JVM based cells. One cell is equivalent to a Java compilation unit and can contain a single class, or a sequence of statements."
   ]
  },
  {
   "cell_type": "markdown",
   "metadata": {},
   "source": [
    "## A package in a cell\n",
    "A package `test.beaker` is defined below and the class `test.beaker.BeakerTest` is used later in a different cell."
   ]
  },
  {
   "cell_type": "code",
   "execution_count": 1,
   "metadata": {},
   "outputs": [
    {
     "data": {
      "text/plain": [
       "test.beaker.BeakerTest"
      ]
     },
     "execution_count": 1,
     "metadata": {},
     "output_type": "execute_result"
    }
   ],
   "source": [
    "package test.beaker;\n",
    "import java.util.Date;\n",
    "import java.text.SimpleDateFormat;\n",
    "\n",
    "public class BeakerTest {\n",
    "    private Date _date;\n",
    "    private SimpleDateFormat sdf = new SimpleDateFormat(\"yyyy-MM-dd'T'HH:mmZ\");\n",
    "    public BeakerTest() {\n",
    "        _date = new Date();\n",
    "    }\n",
    "    public String getDateTxt() {\n",
    "        return \"Today:\" + sdf.format(_date);\n",
    "    }\n",
    "    public String getDateUpperCaseTxt() {\n",
    "        return getDateTxt().toUpperCase();\n",
    "    }\n",
    "}"
   ]
  },
  {
   "cell_type": "markdown",
   "metadata": {},
   "source": [
    "Instantiate an object of type `BeakerTest` and use it."
   ]
  },
  {
   "cell_type": "code",
   "execution_count": 2,
   "metadata": {},
   "outputs": [
    {
     "data": {
      "text/plain": [
       "Today:2018-02-02T19:18+0100"
      ]
     },
     "execution_count": 2,
     "metadata": {},
     "output_type": "execute_result"
    }
   ],
   "source": [
    "package test.beaker;\n",
    "\n",
    "BeakerTest bt = new BeakerTest();\n",
    "return bt.getDateTxt();"
   ]
  },
  {
   "cell_type": "markdown",
   "metadata": {},
   "source": [
    "## Use TiGL3: Java binding and related native libraries\n",
    "In the same folder where this notebook lives are saved various `.jar`, `.lib`, `.dll` files. They provide functions packaged in the TiGL v3 library developed by DLR to manipulate aircraft models stored in CPACS format.\n",
    "\n",
    "The `%classpath` magic will make the `de.dlr.sc.tigl3.*` classes available."
   ]
  },
  {
   "cell_type": "code",
   "execution_count": 3,
   "metadata": {},
   "outputs": [
    {
     "name": "stdout",
     "output_type": "stream",
     "text": [
      "Added jar: [tigl-3.0.0rc1.jar]\n",
      "Added jar: [jna-4.5.1.jar]\n",
      "Added jar: [jna-platform-4.5.1.jar]\n",
      "C:\\Users\\agodemar\\AppData\\Local\\Temp\\beaker4807423332676732435\\outDir\n",
      "C:\\Users\\agodemar\\Dropbox\\Jupyter_2\\beakerx\\tigl-3.0.0rc1.jar\n",
      "C:\\Users\\agodemar\\Dropbox\\Jupyter_2\\beakerx\\jna-4.5.1.jar\n",
      "C:\\Users\\agodemar\\Dropbox\\Jupyter_2\\beakerx\\jna-platform-4.5.1.jar\n"
     ]
    }
   ],
   "source": [
    "%classpath add jar ./tigl-3.0.0rc1.jar\n",
    "%classpath add jar ./jna-4.5.1.jar\n",
    "%classpath add jar ./jna-platform-4.5.1.jar\n",
    "%classpath"
   ]
  },
  {
   "cell_type": "markdown",
   "metadata": {},
   "source": [
    "### An example from TiGL's `JavaDemo`\n",
    "Read a CPACS v3 aircraft file and acquire various data."
   ]
  },
  {
   "cell_type": "code",
   "execution_count": 4,
   "metadata": {},
   "outputs": [
    {
     "name": "stdout",
     "output_type": "stream",
     "text": [
      "TiGL Version: 3.0.0rc1-rc0552217\n"
     ]
    },
    {
     "name": "stderr",
     "output_type": "stream",
     "text": [
      "feb 02, 2018 7:18:05 PM de.dlr.sc.tigl3.Tigl openCPACSConfiguration\r\n",
      "INFORMAZIONI: TiGL: Cpacs configuration opened succesfully\r\n"
     ]
    },
    {
     "name": "stdout",
     "output_type": "stream",
     "text": [
      "Get splines from profile NACA0012:\n",
      "Splines found: 2\n",
      "---\n",
      "Spline: 0\n",
      "Degree:3, Ctrl Pts: 82, Knots: 86\n",
      "Spline: 1\n",
      "Degree:3, Ctrl Pts: 83, Knots: 87\n",
      "==================================\n",
      "fuselage count: 1\n"
     ]
    },
    {
     "name": "stderr",
     "output_type": "stream",
     "text": [
      "feb 02, 2018 7:18:05 PM de.dlr.sc.tigl3.CpacsConfiguration closeDocument\r\n",
      "INFORMAZIONI: Closing cpacs configuration \r\n"
     ]
    },
    {
     "data": {
      "text/plain": [
       "null"
      ]
     },
     "execution_count": 4,
     "metadata": {},
     "output_type": "execute_result"
    }
   ],
   "source": [
    "// See JavaDemo.java in TiGL3 by DLR\n",
    "\n",
    "import java.util.List;\n",
    "\n",
    "import com.sun.jna.ptr.DoubleByReference;\n",
    "import com.sun.jna.ptr.IntByReference;\n",
    "\n",
    "import de.dlr.sc.tigl3.CpacsConfiguration;\n",
    "import de.dlr.sc.tigl3.Tigl.WSProjectionResult;\n",
    "import de.dlr.sc.tigl3.TiglBSpline;\n",
    "import de.dlr.sc.tigl3.Tigl;\n",
    "import de.dlr.sc.tigl3.TiglNativeInterface;\n",
    "import de.dlr.sc.tigl3.TiglPoint;\n",
    "import de.dlr.sc.tigl3.TiglSymmetryAxis;\n",
    "import de.dlr.sc.tigl3.TiglException;\n",
    "\n",
    "System.out.println(\"TiGL Version: \" + Tigl.getVersion());\n",
    "String fileName = \"CPACS_30_D150.xml\";\n",
    "\n",
    "// read the CPACS file\n",
    "try (CpacsConfiguration config = Tigl.openCPACSConfiguration(fileName, \"\")) {\n",
    "    \n",
    "    // get splines from a profile NACA0012\n",
    "    System.out.println(\"Get splines from profile NACA0012:\");\n",
    "    List<TiglBSpline> splines = config.getProfileSplines(\"NACA0012\");\n",
    "    \n",
    "    System.out.println(\"Splines found: \" + splines.size());\n",
    "    System.out.println(\"---\");\n",
    "    for (int ispl = 0; ispl < splines.size(); ++ispl) {\n",
    "        System.out.println(\"Spline: \" + ispl);\n",
    "        TiglBSpline spl = splines.get(ispl);\n",
    "        System.out.println(\"Degree:\" + spl.degree + \", Ctrl Pts: \" + spl.controlPoints.size() + \", Knots: \" + spl.knots.size());\n",
    "    }\n",
    "\n",
    "    System.out.println(\"==================================\");\n",
    "    System.out.println(\"fuselage count: \" + config.getFuselageCount());\n",
    "    \n",
    "} catch(TiglException err) {\n",
    "    System.out.println(err.getMessage());\n",
    "    System.out.println(err.getErrorCode());\n",
    "}\n"
   ]
  },
  {
   "cell_type": "code",
   "execution_count": 5,
   "metadata": {},
   "outputs": [
    {
     "name": "stderr",
     "output_type": "stream",
     "text": [
      "feb 02, 2018 7:18:05 PM de.dlr.sc.tigl3.Tigl openCPACSConfiguration\r\n",
      "INFORMAZIONI: TiGL: Cpacs configuration opened succesfully\r\n"
     ]
    },
    {
     "name": "stdout",
     "output_type": "stream",
     "text": [
      "fuselage count: 1\n"
     ]
    },
    {
     "name": "stderr",
     "output_type": "stream",
     "text": [
      "feb 02, 2018 7:18:05 PM de.dlr.sc.tigl3.CpacsConfiguration closeDocument\r\n",
      "INFORMAZIONI: Closing cpacs configuration \r\n"
     ]
    },
    {
     "data": {
      "text/plain": [
       "null"
      ]
     },
     "execution_count": 5,
     "metadata": {},
     "output_type": "execute_result"
    }
   ],
   "source": [
    "import de.dlr.sc.tigl3.CpacsConfiguration;\n",
    "import de.dlr.sc.tigl3.Tigl.WSProjectionResult;\n",
    "import de.dlr.sc.tigl3.TiglBSpline;\n",
    "import de.dlr.sc.tigl3.Tigl;\n",
    "import de.dlr.sc.tigl3.TiglNativeInterface;\n",
    "String fileName = \"CPACS_30_D150.xml\";\n",
    "CpacsConfiguration config = Tigl.openCPACSConfiguration(fileName, \"\");\n",
    "System.out.println(\"fuselage count: \" + config.getFuselageCount());\n",
    "config.close();"
   ]
  },
  {
   "cell_type": "code",
   "execution_count": null,
   "metadata": {},
   "outputs": [],
   "source": []
  }
 ],
 "metadata": {
  "kernelspec": {
   "display_name": "Java",
   "language": "java",
   "name": "java"
  },
  "language_info": {
   "codemirror_mode": "text/x-java",
   "file_extension": ".java",
   "mimetype": "",
   "name": "Java",
   "nbconverter_exporter": "",
   "version": "1.8.0_121"
  }
 },
 "nbformat": 4,
 "nbformat_minor": 2
}
