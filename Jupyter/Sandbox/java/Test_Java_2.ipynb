{
 "cells": [
  {
   "cell_type": "markdown",
   "metadata": {},
   "source": [
    "# Testing the TiGL Geometry Library with Jupyter/BeakerX Java kernel\n",
    "\n",
    "— Agostino De Marco, University of Naples Federico II\n",
    "\n",
    "This Jupyter notebook uses the [BeakerX Java kernel](http://beakerx.com). The purpose is demonstrating the use of Java and of external native libraries in the context of a notebook. The library used here is [TiGL](https://github.com/DLR-SC/tigl/), a C++ open source library by the [German aerospace research centre DLR](https://software.dlr.de/p/tigl/home/), providing functions to process aircraft geometries in pre-design. TiGL is developed around the [CPACS input/output format](https://software.dlr.de/p/cpacs/home/). CPACS stands for Common Parametric Aircraft Configuration Schema (CPACS) and enables engineers to define an air transportation system in a way which is suitable for multi-disciplinary and multi-fidelity design in distributed environments."
   ]
  },
  {
   "cell_type": "markdown",
   "metadata": {},
   "source": [
    "## Enable TiGL bindings for Java\n",
    "\n",
    "TiGL is written in C++ and depends on several other libraries, such as [TIXI](https://software.dlr.de/p/tixi/home/) for processing XML files and [Open CASCADE Technology (OCCT)](https://www.opencascade.com/content/overview) for implementing aircraft oriented CAD functionalities.\n",
    "\n",
    "[TiGL distributions](https://github.com/DLR-SC/tigl/releases) include software bindings for Java, which are made available by pointing the JVM to necessary JAR files as well as to their companion native library files. For simplicity, all the extra file needed by this example have been copied in the same folder where the notebook lives.\n",
    "\n",
    "BeakerX offers the `%classpath` magic to add jars to the kernel. We use this command in the next cell to make the `de.dlr.sc.tigl3.*` classes available."
   ]
  },
  {
   "cell_type": "code",
   "execution_count": 1,
   "metadata": {},
   "outputs": [
    {
     "name": "stdout",
     "output_type": "stream",
     "text": [
      "Added jar: [tigl-3.0.0rc1.jar]\n",
      "Added jar: [jna-4.5.1.jar]\n",
      "Added jar: [jna-platform-4.5.1.jar]\n",
      "C:\\Users\\agodemar\\AppData\\Local\\Temp\\beaker4312695700357892654\\outDir\n",
      "C:\\Users\\agodemar\\Dropbox\\Jupyter_2\\beakerx\\tigl-3.0.0rc1.jar\n",
      "C:\\Users\\agodemar\\Dropbox\\Jupyter_2\\beakerx\\jna-4.5.1.jar\n",
      "C:\\Users\\agodemar\\Dropbox\\Jupyter_2\\beakerx\\jna-platform-4.5.1.jar\n"
     ]
    }
   ],
   "source": [
    "%classpath add jar ./tigl-3.0.0rc1.jar\n",
    "%classpath add jar ./jna-4.5.1.jar\n",
    "%classpath add jar ./jna-platform-4.5.1.jar\n",
    "%classpath"
   ]
  },
  {
   "cell_type": "markdown",
   "metadata": {},
   "source": [
    "(Get the above JARs from [TiGL current release page](https://github.com/DLR-SC/tigl/releases) and [JNA library page](https://github.com/java-native-access/jna))"
   ]
  },
  {
   "cell_type": "markdown",
   "metadata": {},
   "source": [
    "Normally the Java `import` statement only works in the cell where you use it. To make a class automatically imported into all cells, we use the `%import` magic. So, the following cell makes the classes `Tigl`, `TiglNativeInterface`, and `CpacsConfiguration` visible to all the subsequent cells."
   ]
  },
  {
   "cell_type": "code",
   "execution_count": 2,
   "metadata": {},
   "outputs": [],
   "source": [
    "%import de.dlr.sc.tigl3.Tigl\n",
    "%import de.dlr.sc.tigl3.TiglNativeInterface\n",
    "%import de.dlr.sc.tigl3.CpacsConfiguration"
   ]
  },
  {
   "cell_type": "markdown",
   "metadata": {},
   "source": [
    "(No semicolon `;` at the end)"
   ]
  },
  {
   "cell_type": "markdown",
   "metadata": {},
   "source": [
    "In this example we are going to use Windows 64-bits, therefore the following files are copied into the notebook folder: `tigl3.lib`, `tigl3.dll`, `tixi3.dll`, `concrt140.dll`, `msvcp140.dll`, `vcomp140.dll`, `vcruntime140.dll`."
   ]
  },
  {
   "cell_type": "markdown",
   "metadata": {},
   "source": [
    "Since we have Java, let's double check:"
   ]
  },
  {
   "cell_type": "code",
   "execution_count": 3,
   "metadata": {
    "scrolled": true
   },
   "outputs": [
    {
     "name": "stdout",
     "output_type": "stream",
     "text": [
      ".\\concrt140.dll\n",
      ".\\msvcp140.dll\n",
      ".\\tigl3.dll\n",
      ".\\tigl3.lib\n",
      ".\\tixi3.dll\n",
      ".\\vcomp140.dll\n",
      ".\\vcruntime140.dll\n"
     ]
    },
    {
     "data": {
      "text/plain": [
       "null"
      ]
     },
     "execution_count": 3,
     "metadata": {},
     "output_type": "execute_result"
    }
   ],
   "source": [
    "import java.nio.file.*;\n",
    "Files.list(Paths.get(\".\")) // a stream of paths\n",
    "    .map(path -> path.toString().toLowerCase())\n",
    "    .filter(name -> name.matches(\"([^\\\\s]+(\\\\.(?i)(lib|dll))$)\")) // use regex\n",
    "    .forEach(System.out::println);"
   ]
  },
  {
   "cell_type": "markdown",
   "metadata": {},
   "source": [
    "## Get the TiGL version"
   ]
  },
  {
   "cell_type": "code",
   "execution_count": 4,
   "metadata": {},
   "outputs": [
    {
     "name": "stdout",
     "output_type": "stream",
     "text": [
      "TiGL Version: 3.0.0rc1-rc0552217\n"
     ]
    },
    {
     "data": {
      "text/plain": [
       "null"
      ]
     },
     "execution_count": 4,
     "metadata": {},
     "output_type": "execute_result"
    }
   ],
   "source": [
    "System.out.println(\"TiGL Version: \" + Tigl.getVersion());"
   ]
  },
  {
   "cell_type": "markdown",
   "metadata": {},
   "source": [
    "## A first example: Read a CPACS file and look for profiles\n",
    "\n",
    "We have an aircraft geometry file `CPACS_30_D150.xml` modelled in CPACS (v3.0) format. Let's read the file and explore some of its data structures.\n",
    "\n",
    "First, we need to package the algorithm into a class to make it usable via an instance. We'll call this class `Test1`. We'll pass the file name to the constructor and successively invoke the method `Test1.run()`."
   ]
  },
  {
   "cell_type": "code",
   "execution_count": 5,
   "metadata": {},
   "outputs": [
    {
     "data": {
      "text/plain": [
       "test.tigl.Test1"
      ]
     },
     "execution_count": 5,
     "metadata": {},
     "output_type": "execute_result"
    }
   ],
   "source": [
    "package test.tigl;\n",
    "\n",
    "import java.util.List;\n",
    "import de.dlr.sc.tigl3.TiglBSpline;\n",
    "import de.dlr.sc.tigl3.TiglPoint;\n",
    "import de.dlr.sc.tigl3.TiglException;\n",
    "\n",
    "public class Test1 {\n",
    "    \n",
    "    public String fileName;\n",
    "    public List<TiglBSpline> splines;\n",
    "    \n",
    "    public void run(String fileName) {\n",
    "        this.fileName = fileName;\n",
    "        // read the CPACS file\n",
    "        try (CpacsConfiguration config = Tigl.openCPACSConfiguration(fileName, \"\")) {\n",
    "            // get splines from a profile NACA0012\n",
    "            System.out.println(\"Get splines from profile NACA0012:\");\n",
    "            this.splines = config.getProfileSplines(\"NACA0012\");\n",
    "            System.out.println(\"Splines found: \" + splines.size());\n",
    "            System.out.println(\"---\");\n",
    "            for (int ispl = 0; ispl < splines.size(); ++ispl) {\n",
    "                System.out.println(\"Spline: \" + ispl);\n",
    "                TiglBSpline spl = splines.get(ispl);\n",
    "                System.out.println(\"Degree:\" + spl.degree + \", Ctrl Pts: \" + spl.controlPoints.size() + \", Knots: \" + spl.knots.size());\n",
    "            }\n",
    "        } catch(TiglException err) {\n",
    "            System.out.println(err.getMessage());\n",
    "            System.out.println(err.getErrorCode());\n",
    "        }\n",
    "    }\n",
    "}"
   ]
  },
  {
   "cell_type": "markdown",
   "metadata": {},
   "source": [
    "Now let's instantiate a `Test1` object and use it:"
   ]
  },
  {
   "cell_type": "code",
   "execution_count": 6,
   "metadata": {},
   "outputs": [
    {
     "name": "stderr",
     "output_type": "stream",
     "text": [
      "feb 03, 2018 11:32:58 PM de.dlr.sc.tigl3.Tigl openCPACSConfiguration\r\n",
      "INFORMAZIONI: TiGL: Cpacs configuration opened succesfully\r\n"
     ]
    },
    {
     "name": "stdout",
     "output_type": "stream",
     "text": [
      "Get splines from profile NACA0012:\n",
      "Splines found: 2\n",
      "---\n",
      "Spline: 0\n",
      "Degree:3, Ctrl Pts: 82, Knots: 86\n",
      "Spline: 1\n",
      "Degree:3, Ctrl Pts: 83, Knots: 87\n"
     ]
    },
    {
     "name": "stderr",
     "output_type": "stream",
     "text": [
      "feb 03, 2018 11:32:58 PM de.dlr.sc.tigl3.CpacsConfiguration closeDocument\r\n",
      "INFORMAZIONI: Closing cpacs configuration \r\n"
     ]
    },
    {
     "name": "stdout",
     "output_type": "stream",
     "text": [
      "(0.9875, 0.9875, 0.9875)\n",
      "(0.9833339221696136, 0.9833339221696136, 0.9833339221696136)\n",
      "(0.9750017226786822, 0.9750017226786822, 0.9750017226786822)\n",
      "(0.9625016562185684, 0.9625016562185684, 0.9625016562185684)\n",
      "(0.9500015946500225, 0.9500015946500225, 0.9500015946500225)\n",
      "(0.9375015371140465, 0.9375015371140465, 0.9375015371140465)\n",
      "(0.9250014836306389, 0.9250014836306389, 0.9250014836306389)\n",
      "(0.9125014339935235, 0.9125014339935235, 0.9125014339935235)\n",
      "(0.9000013880654013, 0.9000013880654013, 0.9000013880654013)\n",
      "(0.8875013456984296, 0.8875013456984296, 0.8875013456984296)\n",
      "(0.875001306754715, 0.875001306754715, 0.875001306754715)\n",
      "(0.862501271100214, 0.862501271100214, 0.862501271100214)\n",
      "(0.8500012386055699, 0.8500012386055699, 0.8500012386055699)\n",
      "(0.8375012091452574, 0.8375012091452574, 0.8375012091452574)\n",
      "(0.8250011825969357, 0.8250011825969357, 0.8250011825969357)\n",
      "(0.8125011588408556, 0.8125011588408556, 0.8125011588408556)\n",
      "(0.8000011377591977, 0.8000011377591977, 0.8000011377591977)\n",
      "(0.7875011192353406, 0.7875011192353406, 0.7875011192353406)\n",
      "(0.7750011031531571, 0.7750011031531571, 0.7750011031531571)\n",
      "(0.7625010893962801, 0.7625010893962801, 0.7625010893962801)\n",
      "(0.7500010778472156, 0.7500010778472156, 0.7500010778472156)\n",
      "(0.7375010683865976, 0.7375010683865976, 0.7375010683865976)\n",
      "(0.725001060892251, 0.725001060892251, 0.725001060892251)\n",
      "(0.7125010552382646, 0.7125010552382646, 0.7125010552382646)\n",
      "(0.7000010512939318, 0.7000010512939318, 0.7000010512939318)\n",
      "(0.687501048922783, 0.687501048922783, 0.687501048922783)\n",
      "(0.6750010479813295, 0.6750010479813295, 0.6750010479813295)\n",
      "(0.6625010483179112, 0.6625010483179112, 0.6625010483179112)\n",
      "(0.6500010497712743, 0.6500010497712743, 0.6500010497712743)\n",
      "(0.6375010521691751, 0.6375010521691751, 0.6375010521691751)\n",
      "(0.6250010553267689, 0.6250010553267689, 0.6250010553267689)\n",
      "(0.6125010590448179, 0.6125010590448179, 0.6125010590448179)\n",
      "(0.6000010631078239, 0.6000010631078239, 0.6000010631078239)\n",
      "(0.5875010672817812, 0.5875010672817812, 0.5875010672817812)\n",
      "(0.5750010713119059, 0.5750010713119059, 0.5750010713119059)\n",
      "(0.5625010749197732, 0.5625010749197732, 0.5625010749197732)\n",
      "(0.5500010778004442, 0.5500010778004442, 0.5500010778004442)\n",
      "(0.5375010796188524, 0.5375010796188524, 0.5375010796188524)\n",
      "(0.5250010800059692, 0.5250010800059692, 0.5250010800059692)\n",
      "(0.512501078554196, 0.512501078554196, 0.512501078554196)\n",
      "(0.5000010748121662, 0.5000010748121662, 0.5000010748121662)\n",
      "(0.4875010682786184, 0.4875010682786184, 0.4875010682786184)\n",
      "(0.47500105839533036, 0.47500105839533036, 0.47500105839533036)\n",
      "(0.46250104453872654, 0.46250104453872654, 0.46250104453872654)\n",
      "(0.4500010260099621, 0.4500010260099621, 0.4500010260099621)\n",
      "(0.437501002023236, 0.437501002023236, 0.437501002023236)\n",
      "(0.4250009716915945, 0.4250009716915945, 0.4250009716915945)\n",
      "(0.41250093401002025, 0.41250093401002025, 0.41250093401002025)\n",
      "(0.40000088783479104, 0.40000088783479104, 0.40000088783479104)\n",
      "(0.3875008318582916, 0.3875008318582916, 0.3875008318582916)\n",
      "(0.37500076457806253, 0.37500076457806253, 0.37500076457806253)\n",
      "(0.3625006842583598, 0.3625006842583598, 0.3625006842583598)\n",
      "(0.3500005888821925, 0.3500005888821925, 0.3500005888821925)\n",
      "(0.3375004760908808, 0.3375004760908808, 0.3375004760908808)\n",
      "(0.32500034310725257, 0.32500034310725257, 0.32500034310725257)\n",
      "(0.3125001866371791, 0.3125001866371791, 0.3125001866371791)\n",
      "(0.30000000274207217, 0.30000000274207217, 0.30000000274207217)\n",
      "(0.28749978667205023, 0.28749978667205023, 0.28749978667205023)\n",
      "(0.2749995326452091, 0.2749995326452091, 0.2749995326452091)\n",
      "(0.26249923355202576, 0.26249923355202576, 0.26249923355202576)\n",
      "(0.24999888055428737, 0.24999888055428737, 0.24999888055428737)\n",
      "(0.23749846253324008, 0.23749846253324008, 0.23749846253324008)\n",
      "(0.22499796531811436, 0.22499796531811436, 0.22499796531811436)\n",
      "(0.21249737058998192, 0.21249737058998192, 0.21249737058998192)\n",
      "(0.19999665429184088, 0.19999665429184088, 0.19999665429184088)\n",
      "(0.18749578428429242, 0.18749578428429242, 0.18749578428429242)\n",
      "(0.17499471676813538, 0.17499471676813538, 0.17499471676813538)\n",
      "(0.16249339082706954, 0.16249339082706954, 0.16249339082706954)\n",
      "(0.14999171929353872, 0.14999171929353872, 0.14999171929353872)\n",
      "(0.13748957508825912, 0.13748957508825912, 0.13748957508825912)\n",
      "(0.12498676203682679, 0.12498676203682679, 0.12498676203682679)\n",
      "(0.11248298342624985, 0.11248298342624985, 0.11248298342624985)\n",
      "(0.09997770051431965, 0.09997770051431965, 0.09997770051431965)\n",
      "(0.08747015495266726, 0.08747015495266726, 0.08747015495266726)\n",
      "(0.07495821021900538, 0.07495821021900538, 0.07495821021900538)\n",
      "(0.062440206628849367, 0.062440206628849367, 0.062440206628849367)\n",
      "(0.049901287393788206, 0.049901287393788206, 0.049901287393788206)\n",
      "(0.0373438903178994, 0.0373438903178994, 0.0373438903178994)\n",
      "(0.024572972882971247, 0.024572972882971247, 0.024572972882971247)\n",
      "(0.010037209399650615, 0.010037209399650615, 0.010037209399650615)\n",
      "(9.107298248878237E-18, 9.107298248878237E-18, 9.107298248878237E-18)\n",
      "(0.0, 0.0, 0.0)\n"
     ]
    },
    {
     "data": {
      "application/vnd.jupyter.widget-view+json": {
       "model_id": "2bddde3c-3a71-4c11-9ace-0b3aad9f98c9",
       "version_major": 2,
       "version_minor": 0
      },
      "method": "display_data"
     },
     "metadata": {},
     "output_type": "display_data"
    },
    {
     "data": {
      "text/plain": [
       "null"
      ]
     },
     "execution_count": 6,
     "metadata": {},
     "output_type": "execute_result"
    }
   ],
   "source": [
    "package test.tigl;\n",
    "\n",
    "import com.twosigma.beakerx.chart.xychart.*;\n",
    "import java.util.List;\n",
    "import java.util.stream.Collectors;\n",
    "\n",
    "String fileName = \"CPACS_30_D150.xml\";\n",
    "Test1 test1 = new Test1();\n",
    "test1.run(fileName);\n",
    "List<Object> xs = test1.splines.get(0).controlPoints.stream()\n",
    "    .map(pt -> pt.getX()).collect(Collectors.toList());\n",
    "List<Number> ys = test1.splines.get(0).controlPoints.stream()\n",
    "    .map(pt -> pt.getZ()).collect(Collectors.toList());\n",
    "\n",
    "test1.splines.get(0).controlPoints.stream()\n",
    "    //.forEach(pt -> System.out.println(String.format(\"%f , %f\", pt.getX(), pt.getZ())));\n",
    "    .forEach(pt -> System.out.println(pt));\n",
    "\n",
    "Plot plot = new Plot();\n",
    "plot.setXBound(0.0, 1.0).setYBound(-0.5, 0.5);\n",
    "plot.setTitle(String.format(\"File: %s - NACA0012 Splines\", fileName));\n",
    "plot.setXLabel(\"x/c\").setYLabel(\"y/c\");\n",
    "Line line1 = new Line(xs, ys);\n",
    "plot.add(line1);\n",
    "plot.display();"
   ]
  },
  {
   "cell_type": "code",
   "execution_count": null,
   "metadata": {},
   "outputs": [],
   "source": []
  }
 ],
 "metadata": {
  "kernelspec": {
   "display_name": "Java",
   "language": "java",
   "name": "java"
  },
  "language_info": {
   "codemirror_mode": "text/x-java",
   "file_extension": ".java",
   "mimetype": "",
   "name": "Java",
   "nbconverter_exporter": "",
   "version": "1.8.0_121"
  }
 },
 "nbformat": 4,
 "nbformat_minor": 2
}
