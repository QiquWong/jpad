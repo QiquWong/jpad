{
 "cells": [
  {
   "cell_type": "markdown",
   "metadata": {},
   "source": [
    "<h1>Sandbox Notebook</h1>\n",
    "<p> — <b>Agostino De Marco</b>, <i>University of Naples Federico II</i></p>"
   ]
  },
  {
   "cell_type": "code",
   "execution_count": 84,
   "metadata": {
    "collapsed": false,
    "run_control": {
     "marked": false
    }
   },
   "outputs": [],
   "source": [
    "% run ./python/nb_init.py\n",
    "% matplotlib inline"
   ]
  },
  {
   "cell_type": "markdown",
   "metadata": {},
   "source": [
    "<h2>The basics</h2>"
   ]
  },
  {
   "cell_type": "markdown",
   "metadata": {},
   "source": [
    "### Units of measure \n",
    "In ``Python`` we will use the ``Pint`` package.\n",
    "\n",
    "Having defined the variable ``unit`` as our standard unit registry, let's define some quantities:"
   ]
  },
  {
   "cell_type": "code",
   "execution_count": 103,
   "metadata": {
    "collapsed": false
   },
   "outputs": [
    {
     "name": "stdout",
     "output_type": "stream",
     "text": [
      "3.5 degree\n",
      "0.0611 rad\n"
     ]
    }
   ],
   "source": [
    "angle = 3.5 * unit('deg')\n",
    "print(angle)\n",
    "print(r'{:.4f~}rad'.format(angle.to(unit('rad'))))\n"
   ]
  },
  {
   "cell_type": "code",
   "execution_count": 85,
   "metadata": {
    "collapsed": false
   },
   "outputs": [
    {
     "name": "stdout",
     "output_type": "stream",
     "text": [
      "1 centimeter\n",
      "0.01 meter\n"
     ]
    }
   ],
   "source": [
    "length = 1 * unit.cm\n",
    "print(length)\n",
    "print(length.to(unit.m))"
   ]
  },
  {
   "cell_type": "code",
   "execution_count": 91,
   "metadata": {
    "collapsed": false
   },
   "outputs": [
    {
     "name": "stdout",
     "output_type": "stream",
     "text": [
      "250 kph\n",
      "69.44 m / s\n"
     ]
    }
   ],
   "source": [
    "speed = 250*unit('kph')\n",
    "print(speed)\n",
    "print('{:.2f~}'.format(speed.to(unit('m/s'))))"
   ]
  },
  {
   "cell_type": "markdown",
   "metadata": {},
   "source": [
    "Display some variables in different units."
   ]
  },
  {
   "cell_type": "code",
   "execution_count": 108,
   "metadata": {
    "collapsed": false
   },
   "outputs": [
    {
     "data": {
      "text/latex": [
       "\\begin{array}{lrl}\\text{Angle,}\\, \\alpha: & 3.5&\\text{deg}\\\\\\text{Angle,}\\, \\alpha: & 0.0611&\\text{rad}\\\\ \\hline\\text{Length,}\\, l: & 1&\\text{cm}\\\\\\text{Length,}\\, l: & 0.01&\\text{m}\\\\ \\hline\\text{Speed,}\\, V: & 250&\\text{km/h}\\\\\\text{Speed,}\\, V: & 69.44&\\text{m}\\end{array}"
      ],
      "text/plain": [
       "<IPython.core.display.Latex object>"
      ]
     },
     "execution_count": 108,
     "metadata": {},
     "output_type": "execute_result"
    }
   ],
   "source": [
    "Latex(\n",
    "    r'\\begin{array}{lrl}'\n",
    "     +  r'\\text{Angle,}\\, \\alpha: & ' + r'{.magnitude}'.format(angle.to(unit.deg)) + r'&\\text{deg}'\n",
    "     +  r'\\\\'\n",
    "     +  r'\\text{Angle,}\\, \\alpha: & ' + r'{:.4f}'.format(angle.to(unit.rad).magnitude) + r'&\\text{rad}'\n",
    "     +  r'\\\\ \\hline'\n",
    "     +  r'\\text{Length,}\\, l: & ' + r'{.magnitude}'.format(length.to(unit.cm)) + r'&\\text{cm}'\n",
    "     +  r'\\\\'\n",
    "     +  r'\\text{Length,}\\, l: & ' + r'{.magnitude}'.format(length.to(unit.m)) + r'&\\text{m}'\n",
    "     +  r'\\\\ \\hline'\n",
    "     +  r'\\text{Speed,}\\, V: & ' + r'{.magnitude}'.format(speed.to(unit('kph'))) + r'&\\text{km/h}'\n",
    "     +  r'\\\\'\n",
    "     +  r'\\text{Speed,}\\, V: & ' + r'{:.2f}'.format(speed.to(unit('m/s')).magnitude) + r'&\\text{m}'\n",
    "    + r'\\end{array}'\n",
    "    )"
   ]
  },
  {
   "cell_type": "markdown",
   "metadata": {},
   "source": [
    "<h2>File I/O</h2>"
   ]
  },
  {
   "cell_type": "markdown",
   "metadata": {},
   "source": [
    "TODO: XML, and HDF5."
   ]
  },
  {
   "cell_type": "code",
   "execution_count": null,
   "metadata": {
    "collapsed": true
   },
   "outputs": [],
   "source": []
  }
 ],
 "metadata": {
  "hide_input": false,
  "kernelspec": {
   "display_name": "Python [Root]",
   "language": "python",
   "name": "Python [Root]"
  },
  "language_info": {
   "codemirror_mode": {
    "name": "ipython",
    "version": 3
   },
   "file_extension": ".py",
   "mimetype": "text/x-python",
   "name": "python",
   "nbconvert_exporter": "python",
   "pygments_lexer": "ipython3",
   "version": "3.5.3"
  },
  "toc": {
   "toc_cell": false,
   "toc_number_sections": true,
   "toc_threshold": 6,
   "toc_window_display": false
  }
 },
 "nbformat": 4,
 "nbformat_minor": 2
}
