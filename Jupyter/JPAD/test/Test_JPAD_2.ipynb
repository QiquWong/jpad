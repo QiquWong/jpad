{
 "cells": [
  {
   "cell_type": "markdown",
   "metadata": {},
   "source": [
    "# JPAD test within Jupyter running a BeakerX Java kernel\n",
    "\n",
    "— Agostino De Marco, University of Naples Federico II\n",
    "\n",
    "JPAD stands for *Java Program toolchain for Aircraft Designers*. JPAD is a Java software library containing classes and utility functions that can be used to build software systems. Typically, these are calculation programs providing aerodynamic and performance predictions for given aircraft designs.\n",
    "\n",
    "<img src=\"./images/IRONa.png\" width=\"60%\" />\n",
    "\n",
    "JPAD is open source and its [public repository is on GitHub](https://github.com/Aircraft-Design-UniNa/jpad).\n",
    "\n",
    "\n",
    "This Jupyter notebook uses the [BeakerX Java kernel](http://beakerx.com). The purpose is demonstrating:\n",
    "\n",
    "- the use of Java with Jupyter\n",
    "- the use of JPAD and its companion external native libraries in the context of a notebook"
   ]
  },
  {
   "cell_type": "markdown",
   "metadata": {},
   "source": [
    "## Running this notebook\n",
    "\n",
    "Let us print the current directory content. We are Java users, so let start using Java in our first code cell to this purpose:"
   ]
  },
  {
   "cell_type": "code",
   "execution_count": 1,
   "metadata": {},
   "outputs": [
    {
     "name": "stdout",
     "output_type": "stream",
     "text": [
      ".\\.ipynb_checkpoints\n",
      ".\\;\n",
      ".\\beakerx-jpad.bat\n",
      ".\\images\n",
      ".\\jar\n",
      ".\\lib\n",
      ".\\Test_JPAD_1.ipynb\n",
      ".\\Test_JPAD_2.ipynb\n",
      ".\\Test_JPAD_3.ipynb\n",
      ".\\tmp\n"
     ]
    },
    {
     "data": {
      "text/plain": [
       "null"
      ]
     },
     "execution_count": 1,
     "metadata": {},
     "output_type": "execute_result"
    }
   ],
   "source": [
    "import java.nio.file.*;\n",
    "Files.list(Paths.get(\".\"))\n",
    "    .forEach(System.out::println);"
   ]
  },
  {
   "cell_type": "markdown",
   "metadata": {},
   "source": [
    "This notebook is named `Test_JPAD_2.ipynb`. The `jar` subdirectory contains the two Jar files\n",
    "\n",
    "- `JPADConfigs_DDMM2018.jar`\n",
    "- `JPADCore_v2_DDMM2018.jar`\n",
    "\n",
    "where JPAD is bundled, and all the Jar's that JPAD depends upon.\n",
    "\n",
    "In addition, the The `lib` subdirectory contains all the native libraries (Win64) needed for JPAD to work correctly."
   ]
  },
  {
   "cell_type": "markdown",
   "metadata": {},
   "source": [
    "The BeakerX kernel for this notebook is launched on Windows with the following `beakerx-jpad.bat` file:\n",
    "\n",
    "```\n",
    "setlocal\n",
    "set PATH=%PATH%;.\\lib;.\\jar;\n",
    "set JUPYTER_RUNTIME_DIR=%JUPYTER_RUNTIME_DIR%;.\\lib\n",
    "set JUPYTER_EXEC=\"beakerx\"\n",
    "\n",
    "%JUPYTER_EXEC%\n",
    "```\n",
    "\n",
    "It adds `lib` and `jar` directories to the `PATH` environment variables as well as to the `JUPYTER_RUNTIME_DIR`. Then, it runs Jupyter with the `beakerx` command. Once Jupyter with the [BeakerX](http://beakerx.com/) kernel is set up and running, the notebook file can be opened and executed."
   ]
  },
  {
   "cell_type": "markdown",
   "metadata": {},
   "source": [
    "## Preliminaries"
   ]
  },
  {
   "cell_type": "markdown",
   "metadata": {},
   "source": [
    "### Classpath extras\n",
    "\n",
    "The following cell uses BeakerX *magic command* `%classpath` that directs the Java kernel to include all the Jar files located in the path `./jar`. The command `%classpath` alone prints out all the included Jars."
   ]
  },
  {
   "cell_type": "code",
   "execution_count": 2,
   "metadata": {},
   "outputs": [
    {
     "name": "stdout",
     "output_type": "stream",
     "text": [
      "Added jars: [JPADCore_v2_03042018.jar, xstream-1.4.7.jar, jarh4obj.jar, jxls-core-1.0.5.jar, jarh5obj.jar, flanagan.jar, dom4j-1.6.1.jar, log4j-1.2.13.jar, xmlbeans-2.6.0.jar, JPADConfigs_31032018.jar, processing-core.jar, freebuilder-1.10.5.jar, commons-codec-1.5.jar, jfreesvg-3.0.jar, MOEAFramework-2.12.jar, jdom-2.0.5.jar, unit-api-0.6.1.jar, commons-lang3-3.7.jar, jarhdf-2.10.1.jar, vecmath.jar, trove-3.1a1.jar, commons-logging-1.1.jar, slf4j-api-1.7.5.jar, jfreechart-1.5.0.jar, jarhdfobj.jar, jxls-reader-1.0.5.jar, orsonpdf-1.7.jar, fxgraphics2d-1.3.jar, commons-logging-1.2.jar, jfreesvg-3.3.jar, commons-math3-3.6.1.jar, log4j-core-2.0.2.jar, commons-jexl-2.1.1.jar, reflectutils-0.9.16.jar, jarhdf5-2.10.1.jar, jfreechart-nofx-2.0-pre1.jar, commons-collections4-4.0.jar, javaslang-2.0.4.jar, gtmat.jar, orsoncharts-1.5.jar, poi-3.10.1-20140818.jar, junit-4.11.jar, tigl-2.2.1.jar, stax-api-1.0.1.jar, jscience.jar, log4j-api-2.0.2.jar, guava-16.0.1.jar, poi-ooxml-3.10.1-20140818.jar, icu4j-59_1.jar]\n",
      "C:\\Users\\DeMarco-PC\\AppData\\Local\\Temp\\beaker5855167260645293051\\outDir\n",
      "C:\\Users\\DeMarco-PC\\Dropbox\\Jupyter_2\\beakerx\\jpad\\test2\\jar\\JPADCore_v2_03042018.jar\n",
      "C:\\Users\\DeMarco-PC\\Dropbox\\Jupyter_2\\beakerx\\jpad\\test2\\jar\\xstream-1.4.7.jar\n",
      "C:\\Users\\DeMarco-PC\\Dropbox\\Jupyter_2\\beakerx\\jpad\\test2\\jar\\jarh4obj.jar\n",
      "C:\\Users\\DeMarco-PC\\Dropbox\\Jupyter_2\\beakerx\\jpad\\test2\\jar\\jxls-core-1.0.5.jar\n",
      "C:\\Users\\DeMarco-PC\\Dropbox\\Jupyter_2\\beakerx\\jpad\\test2\\jar\\jarh5obj.jar\n",
      "C:\\Users\\DeMarco-PC\\Dropbox\\Jupyter_2\\beakerx\\jpad\\test2\\jar\\flanagan.jar\n",
      "C:\\Users\\DeMarco-PC\\Dropbox\\Jupyter_2\\beakerx\\jpad\\test2\\jar\\dom4j-1.6.1.jar\n",
      "C:\\Users\\DeMarco-PC\\Dropbox\\Jupyter_2\\beakerx\\jpad\\test2\\jar\\log4j-1.2.13.jar\n",
      "C:\\Users\\DeMarco-PC\\Dropbox\\Jupyter_2\\beakerx\\jpad\\test2\\jar\\xmlbeans-2.6.0.jar\n",
      "C:\\Users\\DeMarco-PC\\Dropbox\\Jupyter_2\\beakerx\\jpad\\test2\\jar\\JPADConfigs_31032018.jar\n",
      "C:\\Users\\DeMarco-PC\\Dropbox\\Jupyter_2\\beakerx\\jpad\\test2\\jar\\processing-core.jar\n",
      "C:\\Users\\DeMarco-PC\\Dropbox\\Jupyter_2\\beakerx\\jpad\\test2\\jar\\freebuilder-1.10.5.jar\n",
      "C:\\Users\\DeMarco-PC\\Dropbox\\Jupyter_2\\beakerx\\jpad\\test2\\jar\\commons-codec-1.5.jar\n",
      "C:\\Users\\DeMarco-PC\\Dropbox\\Jupyter_2\\beakerx\\jpad\\test2\\jar\\jfreesvg-3.0.jar\n",
      "C:\\Users\\DeMarco-PC\\Dropbox\\Jupyter_2\\beakerx\\jpad\\test2\\jar\\MOEAFramework-2.12.jar\n",
      "C:\\Users\\DeMarco-PC\\Dropbox\\Jupyter_2\\beakerx\\jpad\\test2\\jar\\jdom-2.0.5.jar\n",
      "C:\\Users\\DeMarco-PC\\Dropbox\\Jupyter_2\\beakerx\\jpad\\test2\\jar\\unit-api-0.6.1.jar\n",
      "C:\\Users\\DeMarco-PC\\Dropbox\\Jupyter_2\\beakerx\\jpad\\test2\\jar\\commons-lang3-3.7.jar\n",
      "C:\\Users\\DeMarco-PC\\Dropbox\\Jupyter_2\\beakerx\\jpad\\test2\\jar\\jarhdf-2.10.1.jar\n",
      "C:\\Users\\DeMarco-PC\\Dropbox\\Jupyter_2\\beakerx\\jpad\\test2\\jar\\vecmath.jar\n",
      "C:\\Users\\DeMarco-PC\\Dropbox\\Jupyter_2\\beakerx\\jpad\\test2\\jar\\trove-3.1a1.jar\n",
      "C:\\Users\\DeMarco-PC\\Dropbox\\Jupyter_2\\beakerx\\jpad\\test2\\jar\\commons-logging-1.1.jar\n",
      "C:\\Users\\DeMarco-PC\\Dropbox\\Jupyter_2\\beakerx\\jpad\\test2\\jar\\slf4j-api-1.7.5.jar\n",
      "C:\\Users\\DeMarco-PC\\Dropbox\\Jupyter_2\\beakerx\\jpad\\test2\\jar\\jfreechart-1.5.0.jar\n",
      "C:\\Users\\DeMarco-PC\\Dropbox\\Jupyter_2\\beakerx\\jpad\\test2\\jar\\jarhdfobj.jar\n",
      "C:\\Users\\DeMarco-PC\\Dropbox\\Jupyter_2\\beakerx\\jpad\\test2\\jar\\jxls-reader-1.0.5.jar\n",
      "C:\\Users\\DeMarco-PC\\Dropbox\\Jupyter_2\\beakerx\\jpad\\test2\\jar\\orsonpdf-1.7.jar\n",
      "C:\\Users\\DeMarco-PC\\Dropbox\\Jupyter_2\\beakerx\\jpad\\test2\\jar\\fxgraphics2d-1.3.jar\n",
      "C:\\Users\\DeMarco-PC\\Dropbox\\Jupyter_2\\beakerx\\jpad\\test2\\jar\\commons-logging-1.2.jar\n",
      "C:\\Users\\DeMarco-PC\\Dropbox\\Jupyter_2\\beakerx\\jpad\\test2\\jar\\jfreesvg-3.3.jar\n",
      "C:\\Users\\DeMarco-PC\\Dropbox\\Jupyter_2\\beakerx\\jpad\\test2\\jar\\commons-math3-3.6.1.jar\n",
      "C:\\Users\\DeMarco-PC\\Dropbox\\Jupyter_2\\beakerx\\jpad\\test2\\jar\\log4j-core-2.0.2.jar\n",
      "C:\\Users\\DeMarco-PC\\Dropbox\\Jupyter_2\\beakerx\\jpad\\test2\\jar\\commons-jexl-2.1.1.jar\n",
      "C:\\Users\\DeMarco-PC\\Dropbox\\Jupyter_2\\beakerx\\jpad\\test2\\jar\\reflectutils-0.9.16.jar\n",
      "C:\\Users\\DeMarco-PC\\Dropbox\\Jupyter_2\\beakerx\\jpad\\test2\\jar\\jarhdf5-2.10.1.jar\n",
      "C:\\Users\\DeMarco-PC\\Dropbox\\Jupyter_2\\beakerx\\jpad\\test2\\jar\\jfreechart-nofx-2.0-pre1.jar\n",
      "C:\\Users\\DeMarco-PC\\Dropbox\\Jupyter_2\\beakerx\\jpad\\test2\\jar\\commons-collections4-4.0.jar\n",
      "C:\\Users\\DeMarco-PC\\Dropbox\\Jupyter_2\\beakerx\\jpad\\test2\\jar\\javaslang-2.0.4.jar\n",
      "C:\\Users\\DeMarco-PC\\Dropbox\\Jupyter_2\\beakerx\\jpad\\test2\\jar\\gtmat.jar\n",
      "C:\\Users\\DeMarco-PC\\Dropbox\\Jupyter_2\\beakerx\\jpad\\test2\\jar\\orsoncharts-1.5.jar\n",
      "C:\\Users\\DeMarco-PC\\Dropbox\\Jupyter_2\\beakerx\\jpad\\test2\\jar\\poi-3.10.1-20140818.jar\n",
      "C:\\Users\\DeMarco-PC\\Dropbox\\Jupyter_2\\beakerx\\jpad\\test2\\jar\\junit-4.11.jar\n",
      "C:\\Users\\DeMarco-PC\\Dropbox\\Jupyter_2\\beakerx\\jpad\\test2\\jar\\tigl-2.2.1.jar\n",
      "C:\\Users\\DeMarco-PC\\Dropbox\\Jupyter_2\\beakerx\\jpad\\test2\\jar\\stax-api-1.0.1.jar\n",
      "C:\\Users\\DeMarco-PC\\Dropbox\\Jupyter_2\\beakerx\\jpad\\test2\\jar\\jscience.jar\n",
      "C:\\Users\\DeMarco-PC\\Dropbox\\Jupyter_2\\beakerx\\jpad\\test2\\jar\\log4j-api-2.0.2.jar\n",
      "C:\\Users\\DeMarco-PC\\Dropbox\\Jupyter_2\\beakerx\\jpad\\test2\\jar\\guava-16.0.1.jar\n",
      "C:\\Users\\DeMarco-PC\\Dropbox\\Jupyter_2\\beakerx\\jpad\\test2\\jar\\poi-ooxml-3.10.1-20140818.jar\n",
      "C:\\Users\\DeMarco-PC\\Dropbox\\Jupyter_2\\beakerx\\jpad\\test2\\jar\\icu4j-59_1.jar\n"
     ]
    }
   ],
   "source": [
    "%classpath add jar .\\jar\\*\n",
    "%classpath"
   ]
  },
  {
   "cell_type": "markdown",
   "metadata": {},
   "source": [
    "### Check the native libs\n",
    "\n",
    "The native libs stored in the `./lib` directory are listed by the following code cell."
   ]
  },
  {
   "cell_type": "code",
   "execution_count": 3,
   "metadata": {
    "scrolled": true
   },
   "outputs": [
    {
     "name": "stdout",
     "output_type": "stream",
     "text": [
      ".\\lib\\jhdf.dll\n",
      ".\\lib\\jhdf.lib\n",
      ".\\lib\\jhdf5.dll\n",
      ".\\lib\\jhdf5.lib\n",
      ".\\lib\\libhdf.lib\n",
      ".\\lib\\libhdf5.lib\n",
      ".\\lib\\libjpeg.lib\n",
      ".\\lib\\libmfhdf.lib\n",
      ".\\lib\\libszip.lib\n",
      ".\\lib\\libxdr.lib\n",
      ".\\lib\\libzlib.lib\n",
      ".\\lib\\msvcp100.dll\n",
      ".\\lib\\msvcr100.dll\n",
      ".\\lib\\tbb.dll\n",
      ".\\lib\\tbbmalloc.dll\n",
      ".\\lib\\tigl.dll\n",
      ".\\lib\\tigl.lib\n",
      ".\\lib\\tixi.dll\n",
      ".\\lib\\vcomp100.dll\n"
     ]
    },
    {
     "data": {
      "text/plain": [
       "null"
      ]
     },
     "execution_count": 3,
     "metadata": {},
     "output_type": "execute_result"
    }
   ],
   "source": [
    "import java.nio.file.*;\n",
    "Files.list(Paths.get(\"./lib\")) // a stream of paths\n",
    "    .map(path -> path.toString().toLowerCase())\n",
    "    .filter(name -> name.matches(\"([^\\\\s]+(\\\\.(?i)(lib|dll))$)\")) // use regex\n",
    "    .forEach(System.out::println);"
   ]
  },
  {
   "cell_type": "markdown",
   "metadata": {},
   "source": [
    "## Calling JPAD functions\n",
    "\n",
    "At this point we can start using the JPAD API functions."
   ]
  },
  {
   "cell_type": "markdown",
   "metadata": {},
   "source": [
    "### Global scope imports\n",
    "\n",
    "The following are BeakerX *magics*, a bunch of `%import` commands that make a set of Java packages globally visible by all the subsequent code cells."
   ]
  },
  {
   "cell_type": "code",
   "execution_count": 4,
   "metadata": {},
   "outputs": [],
   "source": [
    "%import java.io.File\n",
    "%import java.io.IOException\n",
    "%import java.io.OutputStream\n",
    "%import java.io.PrintStream\n",
    "\n",
    "%import java.nio.file.Path\n",
    "%import java.nio.file.Paths\n",
    "%import java.nio.file.Files\n",
    "\n",
    "%import java.util.ArrayList\n",
    "%import java.util.List\n",
    "%import java.util.stream.Collectors\n",
    "\n",
    "%import javax.measure.quantity.*\n",
    "%import javax.measure.unit.SI\n",
    "%import javax.measure.unit.NonSI\n",
    "\n",
    "\n",
    "%import org.jscience.physics.amount.Amount\n",
    "\n",
    "%import org.apache.poi.openxml4j.exceptions.InvalidFormatException\n",
    "\n",
    "%import ncsa.hdf.hdf5lib.exceptions.HDF5LibraryException\n",
    "\n",
    "%import configuration.*\n",
    "%import configuration.enumerations.*\n",
    "\n",
    "%import aircraft.*\n",
    "%import aircraft.components.*\n",
    "\n",
    "%import aircraft.components.FuelTank\n",
    "\n",
    "%import aircraft.components.fuselage.*\n",
    "%import aircraft.components.liftingSurface.*\n",
    "%import aircraft.components.liftingSurface.creator.*\n",
    "%import aircraft.components.nacelles.*\n",
    "%import aircraft.components.powerplant.*\n",
    "\n",
    "// TODO: analyses\n",
    "// TODO: cad\n",
    "\n",
    "%import calculators.*\n",
    "%import calculators.aerodynamics.*\n",
    "%import calculators.balance.*\n",
    "%import calculators.costs.*\n",
    "%import calculators.geometry.*\n",
    "%import calculators.performance.*\n",
    "%import calculators.stability.*\n",
    "%import calculators.weights.*\n",
    "\n",
    "%import database.*\n",
    "%import database.databasefunctions.*\n",
    "%import database.databasefunctions.aerodynamics.*\n",
    "%import database.databasefunctions.aerodynamics.fusDes.*\n",
    "%import database.databasefunctions.aerodynamics.vedsc.*\n",
    "%import database.databasefunctions.engine.*\n",
    "\n",
    "%import standaloneutils.*\n",
    "%import standaloneutils.atmosphere.*\n",
    "%import standaloneutils.cpacs.*\n",
    "%import standaloneutils.customdata.*\n",
    "%import standaloneutils.database.*\n",
    "%import standaloneutils.jsbsim.*\n",
    "%import standaloneutils.launchers.*\n",
    "%import standaloneutils.mathtools.*\n",
    "%import standaloneutils.aerotools.*\n",
    "\n",
    "%import standaloneutils.aircraft.*\n",
    "\n",
    "%import writers.*\n"
   ]
  },
  {
   "cell_type": "markdown",
   "metadata": {},
   "source": [
    "### Setup database files and create an Aircraft object: class `JPADTest`\n",
    "\n",
    "We will read the input file `../in/aircraft_IRON_NEW.xml` that defines a specific aircraft design named *IRON*. The following image is a top view of this airplane.\n",
    "\n",
    "<img src=\"./images/IRONc.png\" width=\"60%\" />\n",
    "\n",
    "To do so we create a package named `test.jpad` that wraps a test class named `JPADTest`. Objects of this class incorporate the paths to all the files necessary for JPAD to work correctly."
   ]
  },
  {
   "cell_type": "code",
   "execution_count": 5,
   "metadata": {},
   "outputs": [
    {
     "data": {
      "text/plain": [
       "test.jpad.JPADTest"
      ]
     },
     "execution_count": 5,
     "metadata": {},
     "output_type": "execute_result"
    }
   ],
   "source": [
    "package test.jpad;\n",
    "\n",
    "public class JPADTest {\n",
    "    \n",
    "    public String pathToXML;\n",
    "    public String aircraftFileName;\n",
    "    \n",
    "    public String dirAirfoil;\n",
    "    public String dirFuselages;\n",
    "    public String dirLiftingSurfaces;\n",
    "    public String dirEngines;\n",
    "    public String dirNacelles;\n",
    "    public String dirLandingGears;\n",
    "    public String dirCabinConfiguration;\n",
    "    \n",
    "    public String databaseFolderPath;\n",
    "    public String inputFolderPath;\n",
    "    public String outputFolderPath;\n",
    "\n",
    "    public AerodynamicDatabaseReader aeroDatabaseReader;\n",
    "    public HighLiftDatabaseReader highLiftDatabaseReader;\n",
    "    public FusDesDatabaseReader fusDesDatabaseReader;\n",
    "    public VeDSCDatabaseReader veDSCDatabaseReader;\n",
    "\n",
    "    public Aircraft aircraft; // the main recipient object\n",
    "    \n",
    "    public JPADTest(String fileName) {\n",
    "        \n",
    "        aircraftFileName = fileName;\n",
    "        \n",
    "        System.out.println(\"--------------------------\");\n",
    "        System.out.println(\"Initialize JPADTest\");\n",
    "        System.out.println(\"--------------------------\");\n",
    "        \n",
    "        MyConfiguration.setDir(\n",
    "            FoldersEnum.DATABASE_DIR,\n",
    "            Paths.get(\"../data\").toString()\n",
    "        );\n",
    "        MyConfiguration.setDir(\n",
    "            FoldersEnum.INPUT_DIR,\n",
    "            Paths.get(\"../in\").toString()\n",
    "        );\n",
    "\n",
    "        MyConfiguration.setDir(\n",
    "            FoldersEnum.OUTPUT_DIR,\n",
    "            Paths.get(\"../out\").toString()\n",
    "        );\n",
    "\n",
    "        String aerodynamicDatabaseFileName = \"Aerodynamic_Database_Ultimate.h5\";\n",
    "        String highLiftDatabaseFileName = \"HighLiftDatabase.h5\";\n",
    "        String fusDesDatabaseFilename = \"FusDes_database.h5\";\n",
    "        String vedscDatabaseFilename = \"VeDSC_database.h5\";\n",
    "\n",
    "        databaseFolderPath = MyConfiguration.getDir(FoldersEnum.DATABASE_DIR);\n",
    "        inputFolderPath = MyConfiguration.getDir(FoldersEnum.INPUT_DIR);\n",
    "        outputFolderPath = MyConfiguration.getDir(FoldersEnum.OUTPUT_DIR);\n",
    "\n",
    "        System.out.println(\"Database dir: \" + databaseFolderPath);\n",
    "        System.out.println(\"Input dir: \" + inputFolderPath);\n",
    "        System.out.println(\"Output dir: \" + outputFolderPath);\n",
    "\n",
    "        aeroDatabaseReader = DatabaseManager.initializeAeroDatabase(\n",
    "            new AerodynamicDatabaseReader(\n",
    "                databaseFolderPath,\n",
    "                aerodynamicDatabaseFileName\n",
    "                ),\n",
    "            databaseFolderPath\n",
    "            );\n",
    "\n",
    "        highLiftDatabaseReader = DatabaseManager.initializeHighLiftDatabase(\n",
    "            new HighLiftDatabaseReader(\n",
    "                databaseFolderPath,\n",
    "                highLiftDatabaseFileName),\n",
    "            databaseFolderPath\n",
    "            );\n",
    "\n",
    "        fusDesDatabaseReader = DatabaseManager.initializeFusDes(\n",
    "            new FusDesDatabaseReader(\n",
    "                databaseFolderPath,\n",
    "                fusDesDatabaseFilename),\n",
    "            databaseFolderPath\n",
    "            );\n",
    "\n",
    "        veDSCDatabaseReader = DatabaseManager.initializeVeDSC(\n",
    "            new VeDSCDatabaseReader(\n",
    "                databaseFolderPath,\n",
    "                vedscDatabaseFilename),\n",
    "            databaseFolderPath\n",
    "            );\n",
    "\n",
    "        pathToXML = inputFolderPath + \"/\" + aircraftFileName;\n",
    "        dirAirfoil = inputFolderPath + \"/lifting_surfaces/airfoils\";\n",
    "        dirFuselages = inputFolderPath + \"/fuselages\";\n",
    "        dirLiftingSurfaces = inputFolderPath + \"/lifting_surfaces\";\n",
    "        dirEngines = inputFolderPath + \"/engines\";\n",
    "        dirNacelles = inputFolderPath + \"/nacelles\";\n",
    "        dirLandingGears = inputFolderPath + \"/landing_gears\";\n",
    "        dirCabinConfiguration = inputFolderPath + \"/cabin_configurations\";\n",
    "        // atmosphere = AtmosphereCalc.getAtmosphere(1000.);\n",
    "\n",
    "        System.out.println(\"--------------------------\");\n",
    "        System.out.println(\"Initialization done\");\n",
    "        System.out.println(\"--------------------------\");\n",
    "        \n",
    "        try {\n",
    "\n",
    "            System.out.println(\"--------------------------\");\n",
    "            System.out.println(\"Aircraft import\");\n",
    "            System.out.println(\"--------------------------\");\n",
    "\n",
    "            aircraft = Aircraft.importFromXML(\n",
    "                this.pathToXML,\n",
    "                this.dirLiftingSurfaces,\n",
    "                this.dirFuselages,\n",
    "                this.dirEngines,\n",
    "                this.dirNacelles,\n",
    "                this.dirLandingGears,\n",
    "                this.dirCabinConfiguration,\n",
    "                this.dirAirfoil,\n",
    "                this.aeroDatabaseReader,\n",
    "                this.highLiftDatabaseReader,\n",
    "                this.fusDesDatabaseReader,\n",
    "                this.veDSCDatabaseReader\n",
    "                );\n",
    "\n",
    "        } catch (Throwable t) {\n",
    "            t.printStackTrace();\n",
    "            throw t;\n",
    "        }        \n",
    "    }\n",
    "}"
   ]
  },
  {
   "cell_type": "markdown",
   "metadata": {},
   "source": [
    "## Use of `JPADTest`: getting the shape of some airfoils\n",
    "\n",
    "For the sake of simplicity, the class `JPADTest` has public member variables. Some of them are of types provided by the JPAD API. The class constructor `JPADTest()` defines the paths of all auxiliary input files and directories and takes as an input variable the name of the aircraft definition file (a file in XML format).\n",
    "\n",
    "The following code cell defines an object `test` of type `JPADTest`, that incorporates all the necessary definitions to read the IRON aircraft design. The object `test` is initialized by passing the main aircraft definition file stored `../in/aircraft_IRON_NEW.xml`\n",
    "\n",
    "The `test` object has a public member variable `aircraft` of type `Aircraft`, which is populated with all the necessary data at construction time. The object `test.aircraft` models the chosen aircraft design."
   ]
  },
  {
   "cell_type": "code",
   "execution_count": 6,
   "metadata": {},
   "outputs": [
    {
     "name": "stdout",
     "output_type": "stream",
     "text": [
      "--------------------------\n",
      "File .\\images\\IRON-airfoils.svg created.\n",
      "--------------------------\n",
      "File .\\images\\IRON-aircraft-topview.svg created.\n",
      "--------------------------\n",
      "File .\\images\\IRON-aircraft-sideview.svg created.\n"
     ]
    },
    {
     "data": {
      "text/plain": [
       "true"
      ]
     },
     "execution_count": 6,
     "metadata": {},
     "output_type": "execute_result"
    }
   ],
   "source": [
    "package test.jpad;\n",
    "\n",
    "import aircraft.components.liftingSurface.airfoils.*;\n",
    "\n",
    "final PrintStream originalOut = System.out;\n",
    "PrintStream filterStream = new PrintStream(\n",
    "    new OutputStream() {\n",
    "        public void write(int b) {\n",
    "            // write nothing\n",
    "        }\n",
    "    });\n",
    "\n",
    "Path pathToAirfoilsSVG = Paths.get(\"./images/IRON-airfoils.svg\");\n",
    "Path pathToAircraftTopViewSVG = Paths.get(\"./images/IRON-aircraft-topview.svg\");\n",
    "Path pathToAircraftSideViewSVG = Paths.get(\"./images/IRON-aircraft-sideview.svg\");\n",
    "\n",
    "System.setOut(filterStream); // deactivating System.out\n",
    "\n",
    "JPADTest test = new JPADTest(\"aircraft_IRON_NEW.xml\");\n",
    "\n",
    "System.setOut(originalOut); // reactivating System.out\n",
    "\n",
    "Airfoil airfoil0 = test.aircraft\n",
    "    .getWing().getLiftingSurfaceCreator().getAirfoilList().get(0);\n",
    "\n",
    "Airfoil airfoil1 = test.aircraft\n",
    "    .getHTail().getLiftingSurfaceCreator().getAirfoilList().get(0);\n",
    "\n",
    "boolean status = standaloneutils.aircraft.WriteUtils\n",
    "    .writeAirfoilsToSVG(pathToAirfoilsSVG.toString(), \"IRON wing/htail airfoils\", new Airfoil[]{airfoil0, airfoil1});\n",
    "\n",
    "System.out.println(\"--------------------------\");\n",
    "if (status)\n",
    "    System.out.println(\"File \" + pathToAirfoilsSVG.toString() + \" created.\");\n",
    "else\n",
    "    System.out.println(\"No airfoil file created.\");\n",
    "\n",
    "status = standaloneutils.aircraft.WriteUtils\n",
    "    .writeAircraftTopViewToSVG(pathToAircraftTopViewSVG.toString(), \"IRON aircraft top view\", test.aircraft);\n",
    "\n",
    "System.out.println(\"--------------------------\");\n",
    "if (status)\n",
    "    System.out.println(\"File \" + pathToAircraftTopViewSVG.toString() + \" created.\");\n",
    "else\n",
    "    System.out.println(\"No aircraft-topview file created.\");\n",
    "\n",
    "status = standaloneutils.aircraft.WriteUtils\n",
    "    .writeAircraftSideViewToSVG(pathToAircraftSideViewSVG.toString(), \"IRON aircraft side view\", test.aircraft);\n",
    "\n",
    "System.out.println(\"--------------------------\");\n",
    "if (status)\n",
    "    System.out.println(\"File \" + pathToAircraftSideViewSVG.toString() + \" created.\");\n",
    "else\n",
    "    System.out.println(\"No aircraft-sideview file created.\");\n",
    "\n",
    "return status;"
   ]
  },
  {
   "cell_type": "markdown",
   "metadata": {},
   "source": [
    "### Showing the output SVG file\n",
    "\n",
    "The above cell produces some SVG files which are shown below:\n",
    "\n",
    "<img src=\"./images/IRON-airfoils.svg\" width=\"40%\" />\n",
    "\n",
    "And the top view of the aircraft:\n",
    "\n",
    "<img src=\"./images/IRON-aircraft-topview.svg\" width=\"50%\" />\n",
    "\n",
    "And the side view of the aircraft:\n",
    "\n",
    "<img src=\"./images/IRON-aircraft-sideview.svg\" width=\"50%\" />"
   ]
  },
  {
   "cell_type": "code",
   "execution_count": null,
   "metadata": {},
   "outputs": [],
   "source": []
  }
 ],
 "metadata": {
  "kernelspec": {
   "display_name": "Java",
   "language": "java",
   "name": "java"
  },
  "language_info": {
   "codemirror_mode": "text/x-java",
   "file_extension": ".java",
   "mimetype": "",
   "name": "Java",
   "nbconverter_exporter": "",
   "version": "1.8.0_121"
  }
 },
 "nbformat": 4,
 "nbformat_minor": 2
}
