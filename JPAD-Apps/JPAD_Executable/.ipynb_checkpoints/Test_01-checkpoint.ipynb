{
 "cells": [
  {
   "cell_type": "markdown",
   "metadata": {},
   "source": [
    "## JPAD Executable\n",
    "\n",
    "The JPAD library is provided with an executable JAR, which is capable of various aircraft analysis tasks. On Windows, this JAR is executed via a `.bat` command script named `JPAD.bat`."
   ]
  },
  {
   "cell_type": "code",
   "execution_count": 1,
   "metadata": {},
   "outputs": [
    {
     "name": "stdout",
     "output_type": "stream",
     "text": [
      " Il volume nell'unit… C non ha etichetta.\n",
      " Numero di serie del volume: 7A0B-F5A2\n",
      "\n",
      " Directory di C:\\Users\\agodemar\\ADOPT_PROJECT\\jpad\\JPAD-Apps\\JPAD_Executable\n",
      "\n",
      "26/09/2017  17:52    <DIR>          .\n",
      "26/09/2017  17:52    <DIR>          ..\n",
      "26/09/2017  16:04             2 616 .classpath\n",
      "26/09/2017  16:04                 7 .gitignore\n",
      "26/09/2017  17:19    <DIR>          .ipynb_checkpoints\n",
      "26/09/2017  16:04               380 .project\n",
      "26/09/2017  16:04    <DIR>          .settings\n",
      "26/09/2017  16:06    <DIR>          data\n",
      "26/09/2017  16:06    <DIR>          in\n",
      "26/09/2017  17:30               592 JPAD.bat\n",
      "26/09/2017  16:04        30 057 987 JPAD.jar\n",
      "26/09/2017  17:58    <DIR>          out\n",
      "26/09/2017  16:04               177 README.txt\n",
      "26/09/2017  17:30    <DIR>          runs\n",
      "26/09/2017  16:06    <DIR>          src\n",
      "26/09/2017  17:30    <DIR>          test\n",
      "26/09/2017  17:52             2 598 Test_01.ipynb\n",
      "               7 File     30 064 357 byte\n",
      "              10 Directory  38 351 855 616 byte disponibili\n"
     ]
    }
   ],
   "source": [
    "!dir"
   ]
  },
  {
   "cell_type": "code",
   "execution_count": 3,
   "metadata": {},
   "outputs": [
    {
     "name": "stdout",
     "output_type": "stream",
     "text": [
      "C:\\Program Files\\Java\\jdk1.8.0_144\n"
     ]
    }
   ],
   "source": [
    "!echo %JAVA_HOME%"
   ]
  },
  {
   "cell_type": "code",
   "execution_count": null,
   "metadata": {
    "collapsed": true,
    "hide_input": false,
    "run_control": {
     "marked": true
    }
   },
   "outputs": [],
   "source": [
    "!JPAD.bat"
   ]
  },
  {
   "cell_type": "code",
   "execution_count": null,
   "metadata": {
    "collapsed": true
   },
   "outputs": [],
   "source": []
  }
 ],
 "metadata": {
  "hide_input": false,
  "kernelspec": {
   "display_name": "Python [default]",
   "language": "python",
   "name": "python3"
  },
  "language_info": {
   "codemirror_mode": {
    "name": "ipython",
    "version": 3
   },
   "file_extension": ".py",
   "mimetype": "text/x-python",
   "name": "python",
   "nbconvert_exporter": "python",
   "pygments_lexer": "ipython3",
   "version": "3.5.4"
  }
 },
 "nbformat": 4,
 "nbformat_minor": 2
}
