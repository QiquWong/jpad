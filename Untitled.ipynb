{
 "cells": [
  {
   "cell_type": "code",
   "execution_count": 7,
   "metadata": {
    "collapsed": false
   },
   "outputs": [
    {
     "name": "stderr",
     "output_type": "stream",
     "text": [
      "ERROR:root:File `'./resources/init.py'` not found.\n"
     ]
    }
   ],
   "source": [
    "# database = import_database_aerodynamic_center()\n",
    "%matplotlib inline\n",
    "%run ./resources/init.py"
   ]
  },
  {
   "cell_type": "code",
   "execution_count": null,
   "metadata": {
    "collapsed": true
   },
   "outputs": [],
   "source": [
    "python"
   ]
  },
  {
   "cell_type": "markdown",
   "metadata": {},
   "source": [
    "Latex(r'\\begin{array}{ll}'\n",
    "       +  r'\\text{root chord,}\\, c_{\\mathrm{r}}: & ' + r'{0}'.format(c_r) + r'\\,\\text{m}'\n",
    "       +  r'\\\\'\n",
    "       +  r'\\text{tip chord,}\\, c_{\\mathrm{t}}: & ' + r'{0}'.format(c_t) + r'\\,\\text{m}'\n",
    "       +  r'\\\\'\n",
    "       +  r'\\text{semispan,}\\, \\frac{1}{2}b: & ' + r'{0:.4}'.format(b/2) + r'\\,\\text{m}'\n",
    "       +  r'\\\\'   \n",
    "       +  r'\\text{leading edge sweep angle,}\\, \\Lambda_{\\mathrm{le}}: &' \n",
    "          + r'{0:.4}'.format(Lambda_le*180/math.pi) + r'\\,\\text{deg}'\n",
    "       +  r'\\\\'\n",
    "       +  r'\\text{tip section geometric twist,}\\, \\epsilon_{\\mathrm{g,t}}: & ' \n",
    "          + r'{0:.4}'.format(eps_t*180/math.pi) + r'\\,\\text{deg}'\n",
    "       +  r'\\\\'\n",
    "       +  r'\\text{root profile zero-lift angle of attack,}\\, \\alpha_{0\\ell,\\mathrm{r}}: & ' \n",
    "          + r'{0:.4}'.format(alpha0l_r*180/math.pi) + r'\\,\\text{deg}'\n",
    "       +  r'\\\\'\n",
    "       +  r'\\text{tip profile zero-lift angle of attack,}\\, \\alpha_{0\\ell,\\mathrm{t}}: & ' \n",
    "          + r'{0:.4}'.format(alpha0l_t*180/math.pi) + r'\\,\\text{deg}'\n",
    "     + r'\\end{array}')"
   ]
  },
  {
   "cell_type": "markdown",
   "metadata": {},
   "source": [
    "Let us assign the wing planform shape, i.e. let us assume given values of wing span bb,tip chord lenght ctct and root chord lenght crcr . In Python we define the following variables:"
   ]
  },
  {
   "cell_type": "markdown",
   "metadata": {},
   "source": [
    "$$c = \\sqrt{a^2 + b^2}$$"
   ]
  },
  {
   "cell_type": "markdown",
   "metadata": {},
   "source": [
    "b=26.8\n",
    "Lambda_le = 27.5/(180/math.pi)\n",
    "c_r=5.20\n",
    "c_t=1.6\n",
    "taper=c_t/c_r\n",
    "t_c_t=0.09\n",
    "t_c_r=0.1500\n",
    "alpha0l_r = -3/(180/math.pi)\n",
    "alpha0l_t = -1.5/(180/math.pi)\n",
    "eps_t = -1.5/(180/math.pi)\n",
    "M=0.70"
   ]
  },
  {
   "cell_type": "code",
   "execution_count": 4,
   "metadata": {
    "collapsed": false
   },
   "outputs": [
    {
     "ename": "NameError",
     "evalue": "name 'plot_planform_sweep' is not defined",
     "output_type": "error",
     "traceback": [
      "\u001b[0;31m---------------------------------------------------------------------------\u001b[0m",
      "\u001b[0;31mNameError\u001b[0m                                 Traceback (most recent call last)",
      "\u001b[0;32m<ipython-input-4-ffd6255de7e1>\u001b[0m in \u001b[0;36m<module>\u001b[0;34m()\u001b[0m\n\u001b[0;32m----> 1\u001b[0;31m \u001b[0mplot_planform_sweep\u001b[0m\u001b[1;33m(\u001b[0m\u001b[0mc_r\u001b[0m\u001b[1;33m,\u001b[0m \u001b[0mc_t\u001b[0m\u001b[1;33m,\u001b[0m \u001b[0mb\u001b[0m\u001b[1;33m,\u001b[0m \u001b[0mLambda_le\u001b[0m\u001b[1;33m)\u001b[0m\u001b[1;33m\u001b[0m\u001b[0m\n\u001b[0m",
      "\u001b[0;31mNameError\u001b[0m: name 'plot_planform_sweep' is not defined"
     ]
    }
   ],
   "source": [
    "plot_planform_sweep(c_r, c_t, b, Lambda_le)"
   ]
  },
  {
   "cell_type": "code",
   "execution_count": null,
   "metadata": {
    "collapsed": true
   },
   "outputs": [],
   "source": []
  }
 ],
 "metadata": {
  "kernelspec": {
   "display_name": "Python 3",
   "language": "python",
   "name": "python3"
  },
  "language_info": {
   "codemirror_mode": {
    "name": "ipython",
    "version": 3
   },
   "file_extension": ".py",
   "mimetype": "text/x-python",
   "name": "python",
   "nbconvert_exporter": "python",
   "pygments_lexer": "ipython3",
   "version": "3.6.0"
  }
 },
 "nbformat": 4,
 "nbformat_minor": 2
}
